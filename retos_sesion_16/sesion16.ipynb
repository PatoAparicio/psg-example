{
 "cells": [
  {
   "cell_type": "markdown",
   "id": "1489f4b3",
   "metadata": {},
   "source": [
    "# Sesión Bonus\n",
    "## Depuración\n",
    "### Debug en Visual Studio Code\n",
    "### ¿Qué es Debug?\n",
    "Depurar o debuggear es el proceso de encontrar y corregir errores en el código fuente de un programa\n",
    "### Importancia de Debug\n",
    "El proceso de depuración es una parte esencial del desarrollo de software\n",
    "A través de la depuración, podemos identificar errores y problemas en nuestro código.\n",
    "Nos permite corregirlos y mejorar la calidad de nuestro software\n",
    "### Conceptos básicos de Debug\n",
    "1. Punto de interrupción (Breakpoint): Es un punto en el código fuente donde la ejecución del programa se detiene temporalmente. Nos permite inspeccionar el estado del programa en ese punto\n",
    "2.  Comandos de Debug: Son comandos que nos permiten controlar la ejecución del programa durante la depuración\n",
    "3. Inspección de variables: Nos permite ver el valor de las variables en un punto específico del programa\n",
    "4. Evaluación de expresiones en tiempo de ejecución: Nos permite evaluar expresiones en tiempo de ejecución\n",
    "5. Consola de Debug: Es una consola que nos permite interactuar con el programa durante la depuración\n",
    "6. Depuración de un script: Es el proceso de depurar un archivo de código fuente en un programa\n",
    "### Debug en Visual Studio Code\n",
    "Una de las características más útiles de Visual Studio Code es su capacidad para depurar código\n",
    "Posee un depurador integrado que nos permite depurar código en varios lenguajes de programación incluido Python"
   ]
  },
  {
   "cell_type": "code",
   "execution_count": 1,
   "id": "3233b671",
   "metadata": {},
   "outputs": [
    {
     "name": "stdout",
     "output_type": "stream",
     "text": [
      "Inicio Ejemplo 1\n",
      "💀 Error: division by zero <class 'ZeroDivisionError'>\n",
      "Fin Ejemplo 1\n",
      "Resultado: 0.5\n",
      "Resultado: 0.5\n",
      "Resultado: 0.5\n"
     ]
    }
   ],
   "source": [
    "#Ejemplo 1, División por cero\n",
    "\n",
    "#print (\"Inicio Ejemplo 1\")\n",
    "#x = 1 / 0\n",
    "#print (x)\n",
    "#print (\"Fin Ejemplo 1\")\n",
    "\n",
    "##Ejemplo 1, División por cero\n",
    "\n",
    "print (\"Inicio Ejemplo 1\")\n",
    "try:\n",
    "    x = 1 / 0\n",
    "    print (x)\n",
    "except Exception as e:\n",
    "    print(\"💀 Error:\", e, type(e))\n",
    "print (\"Fin Ejemplo 1\")\n",
    "\n",
    "#Ejercicio 1, Crear un programa que solicite dos números y realice la división de ambos números Si hay un error mostrar un mensaje de error El programa se detiene si se ingresa \"salir\"\n",
    "while True:\n",
    "    try:\n",
    "        num1 = input(\"Ingrese el primer número: \")\n",
    "        if num1 == \"salir\":\n",
    "            break\n",
    "        num2 = input(\"Ingrese el segundo número: \")\n",
    "        if num2 == \"salir\":\n",
    "            break\n",
    "        num1 = float(num1)\n",
    "        num2 = float(num2)\n",
    "        print(\"Resultado:\", num1 / num2)\n",
    "    except Exception as e:\n",
    "        print(\"💀 Error:\", e)"
   ]
  },
  {
   "cell_type": "markdown",
   "id": "557a4e8f",
   "metadata": {},
   "source": [
    "### Tipos de excepciones\n",
    "Algunos tipos de excepciones son:\n",
    "\n",
    "- ZeroDivisionError: Se produce cuando se intenta dividir por cero\n",
    "- NameError: Se produce cuando no se encuentra una variable\n",
    "- TypeError: Se produce cuando se intenta realizar una operación no permitida\n",
    "- ValueError: Se produce cuando se intenta realizar una operación con un valor incorrecto\n",
    "- KeyError: Se produce cuando se intenta acceder a una clave que no existe en un diccionario\n",
    "- IndexError: Se produce cuando se intenta acceder a un índice que no existe en una lista\n",
    "### Excepciones múltiples\n",
    "- try puede detectar un tipo de excepción específico y ejecutar un bloque de código diferente para cada tipo de excepción\n",
    "\n",
    "Se debe poner un bloque except el tipo de excepción que se desea capturar con jerarquía de arriba hacía abajo\n",
    "\n",
    "    try:\n",
    "        # Código que puede lanzar una excepción\n",
    "    except ZeroDivisionError as e:\n",
    "        # Código si se produce una excepción de división por cero\n",
    "    except Exception as e:\n",
    "        # Código si se produce una excepción genérica"
   ]
  },
  {
   "cell_type": "code",
   "execution_count": 2,
   "id": "84a49a0c",
   "metadata": {},
   "outputs": [
    {
     "name": "stdout",
     "output_type": "stream",
     "text": [
      "Inicio Ejemplo 2\n",
      "0️⃣ Error: division by zero <class 'ZeroDivisionError'>\n",
      "Fin Ejemplo 2\n",
      "Inicio Ejemplo 2\n",
      "💀 Error: unsupported operand type(s) for /: 'int' and 'str' <class 'TypeError'>\n",
      "Fin Ejemplo 2\n"
     ]
    }
   ],
   "source": [
    "#Ejemplo 2, División por cero\n",
    "print (\"Inicio Ejemplo 2\")\n",
    "divisor = 0\n",
    "try:\n",
    "    x = 1 / divisor\n",
    "    print (x)\n",
    "except ZeroDivisionError as e:\n",
    "    print(\"0️⃣ Error:\", e, type(e))\n",
    "except Exception as e:\n",
    "    print(\"💀 Error:\", e, type(e))\n",
    "print (\"Fin Ejemplo 2\")\n",
    "\n",
    "#Ejemplo 2, División por cero\n",
    "\n",
    "print (\"Inicio Ejemplo 2\")\n",
    "divisor = \"0\"\n",
    "try:\n",
    "    x = 1 / divisor\n",
    "    print (x)\n",
    "except ZeroDivisionError as e:\n",
    "    print(\"0️⃣ Error:\", e, type(e))\n",
    "except Exception as e:\n",
    "    print(\"💀 Error:\", e, type(e))\n",
    "print (\"Fin Ejemplo 2\")"
   ]
  },
  {
   "cell_type": "code",
   "execution_count": 3,
   "id": "15bff22b",
   "metadata": {},
   "outputs": [
    {
     "name": "stdout",
     "output_type": "stream",
     "text": [
      "Inicio Ejemplo 2\n",
      "💀 Error: division by zero <class 'ZeroDivisionError'>\n",
      "Fin Ejemplo 2\n"
     ]
    }
   ],
   "source": [
    "#Jerarquía de excepciones\n",
    "#Ejemplo 2, División por cero\n",
    "\n",
    "print (\"Inicio Ejemplo 2\")\n",
    "divisor = 0\n",
    "try:\n",
    "    x = 1 / divisor\n",
    "    print (x)\n",
    "except Exception as e: # Captura cualquier excepción\n",
    "    print(\"💀 Error:\", e, type(e))\n",
    "except ZeroDivisionError as e:\n",
    "    print(\"0️⃣ Error:\", e, type(e))\n",
    "print (\"Fin Ejemplo 2\")"
   ]
  },
  {
   "cell_type": "code",
   "execution_count": 4,
   "id": "3783b619",
   "metadata": {},
   "outputs": [
    {
     "name": "stdout",
     "output_type": "stream",
     "text": [
      "🎭 Error: unsupported operand type(s) for +=: 'int' and 'str' <class 'TypeError'>\n",
      "💀 Error: list index out of range <class 'IndexError'>\n",
      "Promedio: 46.666666666666664\n"
     ]
    }
   ],
   "source": [
    "#Ejemplo 3, De la lista de calificaciones obtener el promedio\n",
    "calificaciones = [20,40,80,\"A\"]\n",
    "suma = 0\n",
    "try:\n",
    "    for i in range(len(calificaciones)+1):\n",
    "        suma += calificaciones[i] \n",
    "    promedio = suma / len(calificaciones)\n",
    "    print(\"Promedio:\", promedio)\n",
    "except ZeroDivisionError as e:\n",
    "    print(\"0️⃣ Error:\", e, type(e))\n",
    "except TypeError as e:\n",
    "    print(\"🎭 Error:\", e, type(e))\n",
    "except Exception as e:\n",
    "    print(\"💀 Error:\", e, type(e))\n",
    "\n",
    "#Ejemplo 3, De la lista de calificaciones obtener el promedio\n",
    "calificaciones = [20,40,80]\n",
    "suma = 0\n",
    "try:\n",
    "    for i in range(len(calificaciones)+1):\n",
    "        suma += calificaciones[i]\n",
    "    promedio = suma / len(calificaciones)\n",
    "    print(\"Promedio:\", promedio)\n",
    "except ZeroDivisionError as e:\n",
    "    print(\"0️⃣ Error:\", e, type(e))\n",
    "except TypeError as e:\n",
    "    print(\"🎭 Error:\", e, type(e))\n",
    "except Exception as e: # Captura cualquier excepción\n",
    "    print(\"💀 Error:\", e, type(e))\n",
    "\n",
    "#Ejemplo 3, De la lista de calificaciones obtener el promedio\n",
    "calificaciones = [20,40,80]\n",
    "suma = 0\n",
    "try:\n",
    "    for i in range(len(calificaciones)):\n",
    "        suma += calificaciones[i] # suma = suma + calificaciones[i]\n",
    "    promedio = suma / len(calificaciones)\n",
    "    print(\"Promedio:\", promedio)\n",
    "except ZeroDivisionError as e:\n",
    "    print(\"0️⃣ Error:\", e, type(e))\n",
    "except TypeError as e:\n",
    "    print(\"🎭 Error:\", e, type(e))\n",
    "except Exception as e:\n",
    "    print(\"💀 Error:\", e, type(e))"
   ]
  },
  {
   "cell_type": "markdown",
   "id": "6f9cb5c2",
   "metadata": {},
   "source": [
    "### Bloque else\n",
    "Se puede agregar un bloque else que se ejecuta si no se produce ninguna excepción\n",
    "Se debe poner después de todos los bloques except\n",
    "Lo utilizamos validar la entrada de datos o para mostrar un mensaje de éxito\n",
    "Estructura de un bloque else\n",
    "    try:\n",
    "        # Código que puede lanzar una excepción\n",
    "    except Exception as e:\n",
    "        # Código si se produce una excepción\n",
    "    else:\n",
    "        # Código si no se produce ninguna excepción"
   ]
  },
  {
   "cell_type": "code",
   "execution_count": 5,
   "id": "8f379c64",
   "metadata": {},
   "outputs": [
    {
     "name": "stdout",
     "output_type": "stream",
     "text": [
      "Inicio Ejemplo 4\n",
      "Promedio: 46.666666666666664\n",
      "🎉 Sin errores\n",
      "Fin Ejemplo 4\n"
     ]
    }
   ],
   "source": [
    "#Ejemplo 4, De la lista de calificaciones obtener el promedio\n",
    "print (\"Inicio Ejemplo 4\")\n",
    "calificaciones = [20,40,80]\n",
    "suma = 0\n",
    "try:\n",
    "    for i in range(len(calificaciones)):\n",
    "        suma += calificaciones[i]\n",
    "    promedio = suma / len(calificaciones)\n",
    "    print(\"Promedio:\", promedio)\n",
    "except Exception as e:\n",
    "    print(\"💀 Error:\", e, type(e))\n",
    "else:\n",
    "    print (\"🎉 Sin errores\")\n",
    "print (\"Fin Ejemplo 4\")"
   ]
  },
  {
   "cell_type": "code",
   "execution_count": 6,
   "id": "cb8c53b2",
   "metadata": {},
   "outputs": [
    {
     "ename": "SyntaxError",
     "evalue": "unmatched ')' (3501659991.py, line 17)",
     "output_type": "error",
     "traceback": [
      "\u001b[1;36m  Cell \u001b[1;32mIn[6], line 17\u001b[1;36m\u001b[0m\n\u001b[1;33m    resultado = division(num1, num2))\u001b[0m\n\u001b[1;37m                                    ^\u001b[0m\n\u001b[1;31mSyntaxError\u001b[0m\u001b[1;31m:\u001b[0m unmatched ')'\n"
     ]
    }
   ],
   "source": [
    "#Ejercicio 2, Crear un programa que solicite dos números y mediante una función devuelva la división de ambos\n",
    "#Si hay un error mostrar un mensaje de error. El programa se detiene si se ingresa \"salir\"\n",
    "#Añadir un bloque else que muestre el resultado de la función\n",
    "def division(num1, num2):\n",
    "    return num1 / num2\n",
    "\n",
    "while True:\n",
    "    try:\n",
    "        num1 = input(\"Ingrese el primer número: \")\n",
    "        if num1 == \"salir\":\n",
    "            break\n",
    "        num2 = input(\"Ingrese el segundo número: \")\n",
    "        if num2 == \"salir\":\n",
    "            break\n",
    "        num1 = float(num1)\n",
    "        num2 = float(num2)\n",
    "        resultado = division(num1, num2))\n",
    "    except Exception as e:\n",
    "        print(\"💀 Error:\", e)\n",
    "    else:\n",
    "        print(\"🎉 Resultado: \",resultado)"
   ]
  },
  {
   "cell_type": "markdown",
   "id": "5049633b",
   "metadata": {},
   "source": [
    "### Bloque finally\n",
    "Se puede agregar un bloque finally que se ejecuta siempre, independientemente de si se produce una excepción\n",
    "Se debe poner después de todos los bloques except y else\n",
    "Se utiliza para liberar recursos o cerrar archivos\n",
    "Para garantizar que se ejecute un código importante sin importar si se produce una excepción o no\n",
    "- Estructura de un bloque finally\n",
    "\n",
    "    try:\n",
    "        # Código que puede lanzar una excepción\n",
    "    except Exception as e:\n",
    "        # Código si se produce una excepción\n",
    "    else:\n",
    "        # Código si no se produce ninguna excepción\n",
    "    finally:\n",
    "        # Código que se ejecuta siempre"
   ]
  },
  {
   "cell_type": "code",
   "execution_count": null,
   "id": "2d80a52d",
   "metadata": {},
   "outputs": [],
   "source": [
    "#Ejemplo 5, Simula una conexión a internet que haga ping y cerrar la conexión\n",
    "print (\"Inicio Ejemplo 5\")\n",
    "try:\n",
    "    print(\"🔗 Ping...\")\n",
    "except Exception as e:\n",
    "    print(\"💀 Error:\", e)\n",
    "else:\n",
    "    print(\"🎉 Ping Exitoso\")\n",
    "finally:\n",
    "    print(\"🔌 Cerrando conexión\")"
   ]
  },
  {
   "cell_type": "markdown",
   "id": "bb8086ec",
   "metadata": {},
   "source": [
    "### ¿Cómo generamos una excepción?\n",
    "Para probar que finally se ejecuta siempre\n",
    "\n",
    "## Raise\n",
    "- raise se utiliza para generar una excepción\n",
    "Se puede generar una excepción específica o una excepción genérica\n",
    "\n",
    "- Estructura de raise\n",
    "\n",
    "    raise Exception(\"Mensaje de error\")\n",
    "- raise es una palabra reservada de Python\n",
    "- Exception es el tipo de excepción que se desea generar\n",
    "- \"Mensaje de error\" es el mensaje que se mostrará\n"
   ]
  },
  {
   "cell_type": "code",
   "execution_count": null,
   "id": "2bf53acf",
   "metadata": {},
   "outputs": [],
   "source": [
    "#Ejemplo 6, Simula una conexión a internet que haga ping y cerrar la conexión\n",
    "\n",
    "print (\"Inicio Ejemplo 6\")\n",
    "try:\n",
    "    print(\"🔗 Ping...\")\n",
    "    raise Exception(\"Error de conexión\") #Excepción genérica\n",
    "except Exception as e: # Captura cualquier excepción\n",
    "    print(\"💀 Error:\", e)\n",
    "else:\n",
    "    print(\"🎉 Ping Exitoso\")\n",
    "finally:\n",
    "    print(\"🔌 Cerrando conexión\")"
   ]
  },
  {
   "cell_type": "code",
   "execution_count": null,
   "id": "36dba0f5",
   "metadata": {},
   "outputs": [],
   "source": [
    "#Ejercicio 3, Escriba un programa que solicite un número por teclado y se almacene en una lista\n",
    "#Si es 0 se genera una excepción\n",
    "#Si la ejecución es correcta muestra \"🎉Agregado\"\n",
    "#Termina la ejecución sólo con la palabra \"salir\" utilizar la excepción KeyboardInterrupt\n",
    "#Finalmente imprima siempre la suma de los números y la lista\n",
    "numeros = []\n",
    "while True:\n",
    "    try:\n",
    "        num = input(\"Ingrese un número: \")\n",
    "        if num == \"salir\":\n",
    "            break\n",
    "        num = float(num)\n",
    "        if num == 0:\n",
    "            raise Exception(\"No se puede agregar el número 0\")\n",
    "        numeros.append(num)\n",
    "    except KeyboardInterrupt as e:\n",
    "        print('🚫 Para salir escriba \"salir\"')\n",
    "    except Exception as e:\n",
    "        print(\"💀 Error:\", e)\n",
    "    else:\n",
    "        print(\"🎉 Número agregado\")\n",
    "    finally:\n",
    "        print(\"Suma:\", sum(numeros))"
   ]
  },
  {
   "cell_type": "markdown",
   "id": "a6fdfc74",
   "metadata": {},
   "source": [
    "### Pass\n",
    "pass es una palabra reservada de Python que no hace nada\n",
    "Se utiliza para evitar errores de sintaxis\n",
    "Se puede utilizar para evitar errores de indentación"
   ]
  },
  {
   "cell_type": "code",
   "execution_count": null,
   "id": "fc519e04",
   "metadata": {},
   "outputs": [],
   "source": [
    "#Ejemplo 7, Crea una función que no hace nada\n",
    "\n",
    "print(\"Inicio Ejemplo 7\")\n",
    "def funcion():\n",
    "    pass\n",
    "\n",
    "funcion()\n",
    "print(\"Fin Ejemplo 7\")"
   ]
  },
  {
   "cell_type": "markdown",
   "id": "570b41fc",
   "metadata": {},
   "source": [
    "### Excepciones personalizadas\n",
    "Se pueden crear excepciones personalizadas\n",
    "Nos permite crear excepciones específicas para nuestro programa\n",
    "Se utiliza para crear excepciones de acuerdo a las necesidades del programa\n",
    "- Estructura de una excepción personalizada\n",
    "    class MiError(Exception):\n",
    "        pass\n",
    "- raise MiError(\"Mensaje de error\")\n",
    "- class: palabra reservada de Python para crear una clase\n",
    "- MiError (Exception): nombre de la clase y la excepción de la que hereda\n",
    "- pass: palabra reservada de Python para indicar que no hace nada\n"
   ]
  },
  {
   "cell_type": "code",
   "execution_count": null,
   "id": "ea4d8748",
   "metadata": {},
   "outputs": [],
   "source": [
    "#Ejemplo 8, Tienes un frutero, saca las frutas mientras no sea un gusano y genera una excepción\n",
    "print(\"Inicio Ejemplo 8\")\n",
    "class GusanoError(Exception):\n",
    "    pass\n",
    "\n",
    "frutero = ['🍎', '🍌', '🍐', '🐛', '🍇']\n",
    "for fruta in frutero:\n",
    "    try:\n",
    "        if fruta == '🐛':\n",
    "            raise GusanoError(\"😱 Ewww!\")\n",
    "        print(fruta)\n",
    "    except GusanoError as e:\n",
    "        print(\"🐛 Error:\", e)\n",
    "    except Exception as e:\n",
    "        print(\"💀 Error:\", e)\n",
    "print(\"Fin Ejemplo 8\")"
   ]
  },
  {
   "cell_type": "code",
   "execution_count": null,
   "id": "2e992e14",
   "metadata": {},
   "outputs": [],
   "source": [
    "#Ejercicio 4, Crear un programa que solicite palabras por teclado y almacene en una lista\n",
    "#Si se inserta caracteres no alfabéticos se genera una excepción personalizada y no se almacena\n",
    "#Si se ingresa \"salir\" se termina la ejecución\n",
    "#Mostrar el mensaje \"🎉 Palabra agregada\" si no hay errores\n",
    "#Finalmente imprimir la lista de palabras\n",
    "class NoAlfabeticoError(Exception):\n",
    "    pass\n",
    "\n",
    "palabras = []\n",
    "while True:\n",
    "    try:\n",
    "        palabra = input(\"Ingrese una palabra: \")\n",
    "        if palabra == \"salir\":\n",
    "            break\n",
    "        if not palabra.isalpha():\n",
    "            raise NoAlfabeticoError(\"Solo se permiten letras\")\n",
    "        palabras.append(palabra)\n",
    "    except NoAlfabeticoError as e:\n",
    "        print(\"🚫 Error:\", e)\n",
    "    except Exception as e:\n",
    "        print(\"💀 Error:\", e)\n",
    "    else:\n",
    "        print(\"🎉 Palabra agregada\")\n",
    "    finally:\n",
    "        print(\"Lista:\", palabras)"
   ]
  }
 ],
 "metadata": {
  "kernelspec": {
   "display_name": "Python 3",
   "language": "python",
   "name": "python3"
  },
  "language_info": {
   "codemirror_mode": {
    "name": "ipython",
    "version": 3
   },
   "file_extension": ".py",
   "mimetype": "text/x-python",
   "name": "python",
   "nbconvert_exporter": "python",
   "pygments_lexer": "ipython3",
   "version": "3.10.6"
  }
 },
 "nbformat": 4,
 "nbformat_minor": 5
}
