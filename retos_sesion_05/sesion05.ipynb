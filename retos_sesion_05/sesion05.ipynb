{
 "cells": [
  {
   "cell_type": "markdown",
   "id": "bd541bff",
   "metadata": {},
   "source": [
    "# Tipos de datos\n",
    "## Datos numéricos"
   ]
  },
  {
   "cell_type": "markdown",
   "id": "d1abd8b5",
   "metadata": {},
   "source": [
    "## Valores y Variables\n",
    "### Que es un valor?\n",
    "Un valor es es uno de los elementos mas básicos que utiliza un programa.\n",
    "Puede ser un número, una letra o un conjunto de ambos.\n",
    "El valor que vimos hasta ahora \"Hola Mundo\" es un valor de tipo \"cadena\"\n",
    "La función type, que funciona de forma parecida a print, nos permitirá identificar el tipo de dato de un valor.\n",
    "\n",
    "type(valor)"
   ]
  },
  {
   "cell_type": "code",
   "execution_count": null,
   "id": "7bef03d6",
   "metadata": {},
   "outputs": [],
   "source": [
    "print(type(1))"
   ]
  },
  {
   "cell_type": "markdown",
   "id": "81e78c5d",
   "metadata": {},
   "source": [
    "### ¿Qué es una variable?\n",
    "Una variable es una forma de asignar un nombre a un valor para poder usarlo dentro de un programa.\n",
    "\n",
    "Es una de las características más poderosas de cualquier lenguaje de programación, por que permite almacenar datos y reutilizarlos.\n",
    "\n",
    "El programador es quien escoge el nombre de sus variables.\n",
    "\n",
    "### Reglas para nombrar variables en Python\n",
    "Existen reglas para nombrar variables en Python\n",
    "\n",
    "Pueden contener tanto letras como números\n",
    "NO pueden comenzar con un número\n",
    "NO pueden contener espacios\n",
    "Se puede utilizar tanto mayúsculas como minúsculas\n",
    "El signo igual (=) se usa para asignar un valor a una variable.\n",
    "nombre_variable = \"valor\"\n",
    "Es recomendable utilizar nombres de variables que contengan un contexto claro y describan lo que representan"
   ]
  },
  {
   "cell_type": "code",
   "execution_count": null,
   "id": "958ca888",
   "metadata": {},
   "outputs": [],
   "source": [
    "x1q3z9ahd = 35.0\n",
    "x1q3z9afd = 12.50\n",
    "x1q3p9afd = x1q3z9ahd * x1q3z9afd\n",
    "print(x1q3p9afd)\n",
    "horas = 35.0\n",
    "tarifa = 12.50\n",
    "salario = horas * tarifa\n",
    "print(salario)"
   ]
  },
  {
   "cell_type": "markdown",
   "id": "6a32266e",
   "metadata": {},
   "source": [
    "### Datos Numéricos\n",
    "Hay tres tipos numéricos\n",
    "Integers (int)\n",
    "Floating (float)\n",
    "Números complejos (complex)\n",
    "Números Enteros\n",
    "Integers\n",
    "int\n",
    "\n",
    "### ¿Qué son los números enteros?\n",
    "Son números sin parte decimal.\n",
    "\n",
    "Pueden ser positivos, negativos o cero.\n",
    "\n",
    "Tienen precisión ilimitada, pueden representar números muy grandes o muy pequeños sin perder exactitud.\n",
    "\n",
    "$ \\Z = \\{...,-3,-2,-1,0,1,2,3,...\\}$"
   ]
  },
  {
   "cell_type": "code",
   "execution_count": null,
   "id": "3d68f640",
   "metadata": {},
   "outputs": [
    {
     "ename": "",
     "evalue": "",
     "output_type": "error",
     "traceback": [
      "\u001b[1;31mRunning cells with 'Python 3.13.3' requires the ipykernel package.\n",
      "\u001b[1;31m<a href='command:jupyter.createPythonEnvAndSelectController'>Create a Python Environment</a> with the required packages.\n",
      "\u001b[1;31mOr install 'ipykernel' using the command: 'c:/Users/Patricia/AppData/Local/Programs/Python/Python313/python.exe -m pip install ipykernel -U --user --force-reinstall'"
     ]
    }
   ],
   "source": [
    "# Valor 10 Entero\n",
    "print (10)\n",
    "print ( type (10) )\n",
    "# Variable 20 Entero\n",
    "variable_2 = int (20)\n",
    "print (variable_2)\n",
    "print ( type (variable_2) )\n",
    "# Valor 10 en base decimal\n",
    "print (\"Base decimal\")\n",
    "print (10)\n",
    "# Valor 10 en binario\n",
    "print (\"Base binaria\")\n",
    "print (0b1010)\n",
    "# Valor 10 en octal\n",
    "print (\"Base octal\")\n",
    "print (0o12)\n",
    "# Valor 10 en hexadecimal\n",
    "print (\"Base hexadecimal\")\n",
    "print (0xa)\n",
    "# Entero con 60 dígitos\n",
    "variable_3 = 123456789012345678901234567890123456789012345678901234567890\n",
    "print (variable_3)\n",
    "print (type (variable_3))"
   ]
  },
  {
   "cell_type": "markdown",
   "id": "3c0b4540",
   "metadata": {},
   "source": [
    "# Números con punto flotante\n",
    "## ¿Qué son los números con punto flotante?\n",
    "Son números que tienen parte decimal\n",
    "Pueden ser positivos, negativos o cero.\n",
    "Tienen precisión limitada, no pueden representar números con una cantidad infinita de decimales."
   ]
  },
  {
   "cell_type": "code",
   "execution_count": null,
   "id": "984d1110",
   "metadata": {},
   "outputs": [
    {
     "name": "stdout",
     "output_type": "stream",
     "text": [
      "0.5\n",
      "<class 'float'>\n",
      "0.100546\n",
      "<class 'float'>\n",
      "1.0\n",
      "<class 'float'>\n",
      "0.002\n",
      "<class 'float'>\n"
     ]
    }
   ],
   "source": [
    "# Valor 0.5 Flotante\n",
    "print (0.5)\n",
    "print ( type (0.5) )\n",
    "# Variable 0.100546 Flotante\n",
    "variable_4 = 0.100546\n",
    "print (variable_4)\n",
    "print ( type (variable_4) )\n",
    "# Variable 1 Flotante\n",
    "variable_7 = float (1)\n",
    "print(variable_7)\n",
    "print ( type (variable_7) )\n",
    "# Valor 2.0e-3 Flotante\n",
    "variable_6 = 2.0e-3\n",
    "print(variable_6)\n",
    "print ( type (variable_6) )\n",
    "# Precisión de 17 decimales\n",
    "variable_5 = 0.9999999999999999\n",
    "print(variable_5)\n",
    "print ( type (variable_5) )"
   ]
  },
  {
   "cell_type": "markdown",
   "id": "b9603029",
   "metadata": {},
   "source": [
    "# Operadores aritméticos\n",
    "## ¿Que son los operadores aritméticos?\n",
    "Son símbolos especiales que representan operaciones matemáticas como la suma, la multiplicación y otros cálculos.\n",
    "Una operación matemática tiene un operador y uno o más operandos.\n",
    "Los operandos son los valores que se utilizan en la operación.\n",
    "Operadores aritméticos en Python\n",
    "- $+$ : Suma\n",
    "- $-$ : Resta\n",
    "- $*$ : Multiplicación\n",
    "- $/$ : División\n",
    "- $**$ : Potencia\n",
    "- $//$ : División entera\n",
    "- $\\%$ : Módulo o residuo"
   ]
  },
  {
   "cell_type": "code",
   "execution_count": 8,
   "id": "36b5c8fe",
   "metadata": {},
   "outputs": [
    {
     "name": "stdout",
     "output_type": "stream",
     "text": [
      "Suma\n",
      "13\n",
      "Resta\n",
      "7\n",
      "Multiplicación\n",
      "30\n",
      "División\n",
      "3.3333333333333335\n",
      "Potencia\n",
      "1000\n",
      "Módulo o residuo\n",
      "1\n",
      "División entera\n",
      "3\n"
     ]
    }
   ],
   "source": [
    "# Operadores aritméticos\n",
    "a = 10\n",
    "b = 3\n",
    "# Suma\n",
    "print (\"Suma\")\n",
    "print (a + b)\n",
    "# Resta\n",
    "print (\"Resta\")\n",
    "print (a - b)\n",
    "# Multiplicación\n",
    "print (\"Multiplicación\")\n",
    "print (a * b)\n",
    "# División\n",
    "print (\"División\")\n",
    "print (a / b)\n",
    "# Potencia\n",
    "print (\"Potencia\")\n",
    "print (a ** b)\n",
    "# Módulo o residuo\n",
    "print (\"Módulo o residuo\")\n",
    "print (a % b)\n",
    "# División entera\n",
    "print (\"División entera\")\n",
    "print (a // b)"
   ]
  },
  {
   "cell_type": "markdown",
   "id": "8e667762",
   "metadata": {},
   "source": [
    "- Podemos combinar los operadores para crear operaciones más complejas\n",
    "- Cuando existe más de un operador se sigue un orden de precedencia en la evaluación de la operación\n",
    "- Python sigue las reglas matemáticas tradicionales\n",
    "\n",
    "El acrónimo PEMDSR nos ayuda a recordar:\n",
    "- Paréntesis tiene la mayor prioridad, Lo que esté dentro se evalúa primero. Por lo tanto 2*(3-1) es 4\n",
    "- Exponenciación o potencia sigue en la lista de prioridad. Por lo tanto 2**1+1 es 3\n",
    "- Multiplicación y División tienen la misma prioridad y se evalúan de izquierda a derecha. Por lo tanto 2*3*1/2 es 3\n",
    "- Finalmente, Suma y Resta que también comparten prioridad y se evalúan de izquierda a derecha. Por lo tanto 5-3-1 es 1"
   ]
  },
  {
   "cell_type": "markdown",
   "id": "ba43b56d",
   "metadata": {},
   "source": [
    "# Ejericio 1\n",
    "Un contador tiene 300 minutos y se le suman 3600 segundos, ¿Cuántas horas en total son?\n",
    "\n",
    "Recuerda que una hora tiene 60 minutos y un minuto tiene 60 segundos\n",
    "\n",
    "<iframe src=\"https://time-stuff.com/embed.html\" frameborder=\"0\" scrolling=\"no\" width=\"391\" height=\"140\"></iframe>"
   ]
  },
  {
   "cell_type": "code",
   "execution_count": 9,
   "id": "af78a2c7",
   "metadata": {},
   "outputs": [
    {
     "name": "stdout",
     "output_type": "stream",
     "text": [
      "6.0\n"
     ]
    }
   ],
   "source": [
    "# Operaciones más complejas\n",
    "minutos = 300\n",
    "tiempo_extra_segundos = 3600\n",
    "horas = (minutos + tiempo_extra_segundos / 60) / 60\n",
    "print (horas)"
   ]
  },
  {
   "cell_type": "markdown",
   "id": "17f25c27",
   "metadata": {},
   "source": [
    "# Operadores de comparación\n",
    "## ¿Qué son los operadores de comparación?\n",
    "Son símbolos especiales que permiten comparar dos valores.\n",
    "Se utilizan para evaluar relaciones como igualdad, mayor que, menor que, entre otras.\n",
    "Los valores comparados no necesitan ser del mismo tipo para ser comparados\n",
    "El resultado de una comparación siempre es un valor booleano: True o False.\n",
    "### Operadores de comparación en Python\n",
    "- <: Estrictamente menor que\n",
    "- >: Estrictamente mayor que\n",
    "- ==: Estrictamente igual que\n",
    "- <=: Menor o igual que\n",
    "- >=: Mayor o igual que\n",
    "- != : Estrictamente diferente que"
   ]
  },
  {
   "cell_type": "code",
   "execution_count": 11,
   "id": "37579bf0",
   "metadata": {},
   "outputs": [
    {
     "name": "stdout",
     "output_type": "stream",
     "text": [
      "Operadores de comparación\n",
      "False\n",
      "False\n",
      "True\n",
      "True\n",
      "True\n",
      "False\n",
      "Operadores de comparación con int - float\n",
      "False\n",
      "False\n",
      "True\n",
      "True\n",
      "True\n",
      "False\n"
     ]
    }
   ],
   "source": [
    "print (\"Operadores de comparación\")\n",
    "comparar = 10\n",
    "print (comparar < 10)\n",
    "print (comparar > 10)\n",
    "print (comparar == 10)\n",
    "print (comparar <= 10)\n",
    "print (comparar >= 10)\n",
    "print (comparar != 10)\n",
    "print (\"Operadores de comparación con int - float\")\n",
    "entero = 10\n",
    "flotante = 10.0\n",
    "print (entero < flotante)\n",
    "print (entero > flotante)\n",
    "print (entero == flotante)\n",
    "print (entero <= flotante)\n",
    "print (entero >= flotante)\n",
    "print (entero != flotante)"
   ]
  }
 ],
 "metadata": {
  "kernelspec": {
   "display_name": "Python 3",
   "language": "python",
   "name": "python3"
  },
  "language_info": {
   "codemirror_mode": {
    "name": "ipython",
    "version": 3
   },
   "file_extension": ".py",
   "mimetype": "text/x-python",
   "name": "python",
   "nbconvert_exporter": "python",
   "pygments_lexer": "ipython3",
   "version": "3.13.3"
  }
 },
 "nbformat": 4,
 "nbformat_minor": 5
}
