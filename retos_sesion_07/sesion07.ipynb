{
 "cells": [
  {
   "cell_type": "markdown",
   "id": "1489f4b3",
   "metadata": {},
   "source": [
    "# SESION 7 TIPOS DE DATOS\n",
    "## CADENAS\n",
    "¿Qué es una cadena?\n",
    "Una cadena es una secuencia de caracteres\n",
    "Todos los caracteres que son imprimibles y no imprimibles\n",
    "- Alfabeto\n",
    "- Números\n",
    "- Símbolos\n",
    "- Emojis\n",
    "- Espacios\n",
    "- Tabulaciones\n",
    "- Saltos de línea\n"
   ]
  },
  {
   "cell_type": "code",
   "execution_count": 21,
   "id": "3233b671",
   "metadata": {},
   "outputs": [
    {
     "name": "stdout",
     "output_type": "stream",
     "text": [
      "Mi cadena permite comillas \"dobles\" en una sola línea\n",
      "Mi cadena permite comillas 'simples' en una sola línea\n",
      "Mi cadena\n",
      "permite contenido \n",
      "en varias líneas y comillas \"dobles\" \n",
      "Mi cadena\n",
      "permite contenido \n",
      "en varias líneas y comillas 'simples' \n"
     ]
    }
   ],
   "source": [
    "simple = 'Mi cadena permite comillas \"dobles\" en una sola línea'\n",
    "doble  = \"Mi cadena permite comillas 'simples' en una sola línea\"\n",
    "triple_simple = '''Mi cadena\n",
    "permite contenido \n",
    "en varias líneas y comillas \"dobles\" '''\n",
    "triple_doble = \"\"\"Mi cadena\n",
    "permite contenido \n",
    "en varias líneas y comillas 'simples' \"\"\"\n",
    "print (simple)\n",
    "print (doble)\n",
    "print (triple_simple)\n",
    "print (triple_doble)"
   ]
  },
  {
   "cell_type": "code",
   "execution_count": 22,
   "id": "439a54d7",
   "metadata": {},
   "outputs": [
    {
     "name": "stdout",
     "output_type": "stream",
     "text": [
      "1\n",
      "0.001\n",
      "10\n",
      "True\n",
      "<class 'str'>\n",
      "<class 'str'>\n",
      "<class 'str'>\n",
      "<class 'str'>\n"
     ]
    }
   ],
   "source": [
    "entero = str(1)\n",
    "flotante = str(1E-3)\n",
    "hexadecimal = str(0xA)\n",
    "booleano = str (True)\n",
    "print (entero)\n",
    "print (flotante)\n",
    "print (hexadecimal)\n",
    "print (booleano)\n",
    "print (type(entero))\n",
    "print (type(flotante))\n",
    "print (type(hexadecimal))\n",
    "print (type(booleano))"
   ]
  },
  {
   "cell_type": "markdown",
   "id": "570b41fc",
   "metadata": {},
   "source": [
    "### Escape de caracteres\n",
    "Es la práctica de colocar un carácter especial o conjunto de caracteres dentro de una cadena para que se interprete de manera diferente"
   ]
  },
  {
   "cell_type": "code",
   "execution_count": 23,
   "id": "ea4d8748",
   "metadata": {},
   "outputs": [
    {
     "name": "stdout",
     "output_type": "stream",
     "text": [
      "El mensaje enviado fue: \"Hello, I'm a message\"\n",
      "El mensaje enviado fue: \"Hello, I'm a message\"\n"
     ]
    }
   ],
   "source": [
    "print (\"El mensaje enviado fue: \\\"Hello, I\\'m a message\\\"\")\n",
    "print ('El mensaje enviado fue: \\\"Hello, I\\'m a message\\\"')"
   ]
  },
  {
   "cell_type": "markdown",
   "id": "1c9e5073",
   "metadata": {},
   "source": [
    "Existen combinaciones de escapado que generan caracteres especiales los más comunes son:\n",
    "\n",
    "- \\n : Agrega el carácter ASCII (LF) que representa un salto de línea\n",
    "- \\t : Agrega el carácter ASCII (TAB) que representa una tabulación horizontal\n",
    "- \\v : Agrega el carácter ASCII (VT) que representa una tabulación vertical\n",
    "- \\b : Agrega el carácter ASCII (BS) que representa un retroceso\n",
    "- \\ : Agrega el carácter de backslash o barra invertida\n",
    "- \\ <newline> : Agrega un salto de línea en el código pero no en la impresión"
   ]
  },
  {
   "cell_type": "code",
   "execution_count": 24,
   "id": "74526bbc",
   "metadata": {},
   "outputs": [
    {
     "name": "stdout",
     "output_type": "stream",
     "text": [
      "Hola,\n",
      "\teste es un mensaje \u000bcon algunos caracteres especiales como \\ y tabulador.\n"
     ]
    }
   ],
   "source": [
    "mensaje = \"Hola,\\n\\teste es un mensaje \\vcon algunos caracteres \\\n",
    "especiales como \\\\ y tabulador.\"\n",
    "print(mensaje)"
   ]
  },
  {
   "cell_type": "code",
   "execution_count": 25,
   "id": "351dd1c9",
   "metadata": {},
   "outputs": [
    {
     "name": "stdout",
     "output_type": "stream",
     "text": [
      "10\n",
      "<class 'str'>\n"
     ]
    }
   ],
   "source": [
    "entrada = input(\"Ingrese un valor: \")\n",
    "print (entrada)\n",
    "print (type(entrada))"
   ]
  },
  {
   "cell_type": "markdown",
   "id": "3a8f4786",
   "metadata": {},
   "source": [
    "### Cuando introducimos por teclado y es procesado por una cadena puede ser convertido a diferentes tipos como enteros, flotantes, booleanos"
   ]
  },
  {
   "cell_type": "code",
   "execution_count": 26,
   "id": "cb677c5c",
   "metadata": {},
   "outputs": [
    {
     "name": "stdout",
     "output_type": "stream",
     "text": [
      "5 <class 'int'>\n",
      "2.3 <class 'float'>\n",
      "True <class 'bool'>\n"
     ]
    }
   ],
   "source": [
    "entero = int(input(\"Ingrese un valor entero: \"))\n",
    "print (entero, type(entero))\n",
    "\n",
    "flotante = float(input(\"Ingrese un valor flotante: \"))\n",
    "print (flotante, type(flotante))\n",
    "\n",
    "booleano = bool(input(\"Ingrese un valor booleano: \"))\n",
    "print (booleano, type(booleano))"
   ]
  },
  {
   "cell_type": "markdown",
   "id": "349b1b2d",
   "metadata": {},
   "source": [
    "# Manejo de Indices"
   ]
  },
  {
   "cell_type": "code",
   "execution_count": 27,
   "id": "1770e600",
   "metadata": {},
   "outputs": [
    {
     "name": "stdout",
     "output_type": "stream",
     "text": [
      "Indexado positivo\n",
      "banana\n",
      "b\n",
      "a\n",
      "Indexado negativo\n",
      "banana\n",
      "a\n",
      "a\n"
     ]
    }
   ],
   "source": [
    "print (\"Indexado positivo\")\n",
    "fruta = \"banana\"\n",
    "print (fruta)\n",
    "print (fruta[0])\n",
    "print (fruta[5])\n",
    "print (\"Indexado negativo\")\n",
    "fruta = \"banana\"\n",
    "print (fruta)\n",
    "print (fruta[-1])\n",
    "print (fruta[-3])\n"
   ]
  },
  {
   "cell_type": "markdown",
   "id": "59fd3ff5",
   "metadata": {},
   "source": [
    "## Segmentación o Slicing\n",
    "Técnica que permite extraer una parte de una secuencia de caracteres utilizando los indices de esta cadena\n",
    "El resultado es una sub cadena"
   ]
  },
  {
   "cell_type": "code",
   "execution_count": 28,
   "id": "5b9456d1",
   "metadata": {},
   "outputs": [
    {
     "name": "stdout",
     "output_type": "stream",
     "text": [
      "Slicing\n",
      "LaPaz-Bolivia\n",
      "Slicing con índices positivos\n",
      "LaPaz-\n",
      "LPz\n",
      "Slicing con índices negativos\n",
      "az-Boliv\n",
      "a-oi\n",
      "Slicing sin índice inicial y final\n",
      "LaPaz-\n",
      "Bolivia\n",
      "Slicing sin índice inicial ni final\n",
      "LaPaz-Bolivia\n",
      "LPzBlva\n",
      "Slicing con paso negativo\n",
      "viloB-\n",
      "vlBzPL\n"
     ]
    }
   ],
   "source": [
    "print (\"Slicing\")\n",
    "ciudad =  \"LaPaz-Bolivia\"\n",
    "print (ciudad)\n",
    "print (\"Slicing con índices positivos\")\n",
    "print (ciudad[0:6])\n",
    "print (ciudad[0:6:2])\n",
    "print (\"Slicing con índices negativos\")\n",
    "print (ciudad[-10:-2])\n",
    "print (ciudad[-10:-2:2])\n",
    "print (\"Slicing sin índice inicial y final\")\n",
    "print (ciudad[:6])\n",
    "print (ciudad[6:])\n",
    "print (\"Slicing sin índice inicial ni final\")\n",
    "print (ciudad[:])\n",
    "print (ciudad[::2])\n",
    "print (\"Slicing con paso negativo\")\n",
    "print (ciudad[10:4:-1])\n",
    "print (ciudad[10::-2])"
   ]
  },
  {
   "cell_type": "markdown",
   "id": "f962f1e6",
   "metadata": {},
   "source": [
    "## Concatenación de una cadena\n",
    "Las cadenas se pueden concatenar con el operador + generando una nueva cadena en el resultado"
   ]
  },
  {
   "cell_type": "code",
   "execution_count": 29,
   "id": "6356c12e",
   "metadata": {},
   "outputs": [
    {
     "name": "stdout",
     "output_type": "stream",
     "text": [
      "Concatenación de cadenas\n",
      "Hola Mundo\n"
     ]
    }
   ],
   "source": [
    "print (\"Concatenación de cadenas\")\n",
    "cadena1 = \"Hola\"\n",
    "cadena2 = \"Mundo\"\n",
    "concatenada = cadena1 + \" \" + cadena2\n",
    "print (concatenada)"
   ]
  },
  {
   "cell_type": "markdown",
   "id": "4390c6e4",
   "metadata": {},
   "source": [
    "### Repetición de una cadena\n",
    "Las cadenas pueden ser repetidas utilizando el operador * y un número entero N que genera una nueva cadena repetida N veces"
   ]
  },
  {
   "cell_type": "code",
   "execution_count": 30,
   "id": "f94dc52f",
   "metadata": {},
   "outputs": [
    {
     "name": "stdout",
     "output_type": "stream",
     "text": [
      "Repetición de cadenas\n",
      "-#--#--#--#--#--#--#--#--#--#-\n"
     ]
    }
   ],
   "source": [
    "print (\"Repetición de cadenas\")\n",
    "cadena = \"-#-\"\n",
    "repetida = cadena * 10\n",
    "print (repetida)"
   ]
  },
  {
   "cell_type": "markdown",
   "id": "2d2e402c",
   "metadata": {},
   "source": [
    "### Longitud de una cadena\n",
    "Una de las funciones más importantes es la función len que nos permite obtener la longitud de una cadena específica\n",
    "La longitud de una cadena es del tipo entero"
   ]
  },
  {
   "cell_type": "code",
   "execution_count": 31,
   "id": "7a7b1bae",
   "metadata": {},
   "outputs": [
    {
     "name": "stdout",
     "output_type": "stream",
     "text": [
      "Longitud de una cadena\n",
      "Hola Mundo :D\n",
      "13 <class 'int'>\n"
     ]
    }
   ],
   "source": [
    "print (\"Longitud de una cadena\")\n",
    "cadena = \"Hola Mundo :D\"\n",
    "longitud = len(cadena)\n",
    "print (cadena)\n",
    "print (longitud, type(longitud))"
   ]
  },
  {
   "cell_type": "markdown",
   "id": "d6e2ff6f",
   "metadata": {},
   "source": [
    "## Métodos de Cadenas"
   ]
  },
  {
   "cell_type": "code",
   "execution_count": 32,
   "id": "6a39c5e7",
   "metadata": {},
   "outputs": [
    {
     "name": "stdout",
     "output_type": "stream",
     "text": [
      "Función Upper\n",
      "cadena Inicial #1\n",
      "CADENA INICIAL #1\n",
      "Función Lower\n",
      "Cadena INICIAL #2\n",
      "cadena inicial #2\n",
      "Función Capitalize\n",
      "cadena INICIAL #3\n",
      "Cadena inicial #3\n",
      "Función Title\n",
      "CADENA inicial #4\n",
      "Cadena Inicial #4\n",
      "Función Swapcase\n",
      "CADena InIcIaL #5\n",
      "cadENA iNiCiAl #5\n"
     ]
    }
   ],
   "source": [
    "print (\"Función Upper\")\n",
    "cadena = \"cadena Inicial #1\"\n",
    "mayuscula  = cadena.upper()\n",
    "print (cadena)\n",
    "print (mayuscula)\n",
    "print (\"Función Lower\")\n",
    "cadena = \"Cadena INICIAL #2\"\n",
    "minuscula  = cadena.lower()\n",
    "print (cadena)\n",
    "print (minuscula)\n",
    "print (\"Función Capitalize\")\n",
    "cadena = \"cadena INICIAL #3\"\n",
    "capital = cadena.capitalize()\n",
    "print (cadena)\n",
    "print (capital)\n",
    "print (\"Función Title\")\n",
    "cadena = \"CADENA inicial #4\"\n",
    "titulo = cadena.title()\n",
    "print (cadena)\n",
    "print (titulo)\n",
    "print (\"Función Swapcase\")\n",
    "cadena = \"CADena InIcIaL #5\"\n",
    "swap = cadena.swapcase()\n",
    "print (cadena)\n",
    "print (swap)"
   ]
  },
  {
   "cell_type": "markdown",
   "id": "4b61b63d",
   "metadata": {},
   "source": [
    "### Funciones que permiten buscar contenido dentro las cadenas"
   ]
  },
  {
   "cell_type": "code",
   "execution_count": 33,
   "id": "ba6ebb3a",
   "metadata": {},
   "outputs": [
    {
     "name": "stdout",
     "output_type": "stream",
     "text": [
      "Función Count\n",
      "Cantidad de veces la letra A\n",
      "4 <class 'int'>\n",
      "Función Find\n",
      "Encontrar las letras las\n",
      "10 <class 'int'>\n",
      "Función Rfind\n",
      "Encontrar las letras las\n",
      "21 <class 'int'>\n",
      "Función Find y Rfind\n",
      "Encontrar tres O\n",
      "-1 <class 'int'>\n",
      "-1 <class 'int'>\n"
     ]
    }
   ],
   "source": [
    "print (\"Función Count\")\n",
    "cadena = \"Cantidad de veces la letra A\"\n",
    "contar = cadena.count(\"a\")\n",
    "print(cadena)\n",
    "print(contar, type(contar))\n",
    "print (\"Función Find\")\n",
    "cadena = \"Encontrar las letras las\"\n",
    "buscar = cadena.find(\"las\")\n",
    "print(cadena)\n",
    "print(buscar, type(buscar))\n",
    "print (\"Función Rfind\")\n",
    "cadena = \"Encontrar las letras las\"\n",
    "buscar = cadena.rfind(\"las\")\n",
    "print(cadena)\n",
    "print(buscar, type(buscar))\n",
    "print (\"Función Find y Rfind\")\n",
    "cadena = \"Encontrar tres O\"\n",
    "buscar = cadena.find(\"OOO\")\n",
    "print(cadena)\n",
    "print(buscar, type(buscar))\n",
    "buscar = cadena.rfind(\"OOO\")\n",
    "print(buscar, type(buscar))"
   ]
  },
  {
   "cell_type": "markdown",
   "id": "f32924cc",
   "metadata": {},
   "source": [
    "### Funciones para saber si una cadena contiene sólo números, sólo caracteres alfabéticos o mixtos"
   ]
  },
  {
   "cell_type": "code",
   "execution_count": 34,
   "id": "cfaa8e95",
   "metadata": {},
   "outputs": [
    {
     "name": "stdout",
     "output_type": "stream",
     "text": [
      "Función isdigit\n",
      "True <class 'bool'>\n",
      "Función isalpha\n",
      "True <class 'bool'>\n",
      "Función isalnum\n",
      "True <class 'bool'>\n"
     ]
    }
   ],
   "source": [
    "print (\"Función isdigit\")\n",
    "resultado = \"100\".isdigit()\n",
    "print (resultado, type(resultado))\n",
    "print (\"Función isalpha\")\n",
    "resultado = \"Hola\".isalpha()\n",
    "print (resultado, type(resultado))\n",
    "print (\"Función isalnum\")\n",
    "resultado = \"usuario123\".isalnum()\n",
    "print (resultado, type(resultado))"
   ]
  },
  {
   "cell_type": "markdown",
   "id": "41a82a6f",
   "metadata": {},
   "source": [
    "### Funciones que permiten procesar las cadena donde el resultado no son solo cadenas, sino también otros tipos de datos"
   ]
  },
  {
   "cell_type": "code",
   "execution_count": 35,
   "id": "0595500f",
   "metadata": {},
   "outputs": [
    {
     "name": "stdout",
     "output_type": "stream",
     "text": [
      "Función split\n",
      "pan,carne,huevos\n",
      "['pan', 'carne', 'huevos'] <class 'list'>\n",
      "Función join\n",
      "abcdefghij\n",
      "a-b-c-d-e-f-g-h-i-j\n",
      "Función strip\n",
      "      Hola    Mundo     \n",
      "Hola    Mundo\n",
      "-abc--def-ghi-cba----\n",
      "def-ghi\n",
      "Función replace\n",
      "Me gusta programar en JS, Amo JS\n",
      "Me gusta programar en Python, Amo Python\n",
      "Función format\n",
      "El valor de PI es: {}\n",
      "El valor de PI es: 3.1416\n",
      "Función format con índices\n",
      "{2} es la suma de {0} y {1}\n",
      "8 es la suma de 5 y 3\n",
      "Función format con nombres\n",
      "{ciudad} es la capital de {pais}\n",
      "París es la capital de Francia\n"
     ]
    }
   ],
   "source": [
    "print (\"Función split\")\n",
    "cadena = \"pan,carne,huevos\"\n",
    "separado = cadena.split(\",\")\n",
    "print (cadena)\n",
    "print (separado, type(separado))\n",
    "print (\"Función join\")\n",
    "cadena = \"abcdefghij\"\n",
    "unido = \"-\".join(cadena)\n",
    "print (cadena)\n",
    "print (unido)\n",
    "print (\"Función strip\")\n",
    "cadena = \"      Hola    Mundo     \"\n",
    "limpio = cadena.strip()\n",
    "print (cadena)\n",
    "print (limpio)\n",
    "cadena = \"-abc--def-ghi-cba----\"\n",
    "limpio = cadena.strip(\"bac-\")\n",
    "print (cadena)\n",
    "print (limpio)\n",
    "print (\"Función replace\")\n",
    "cadena = \"Me gusta programar en JS, Amo JS\"\n",
    "reemplazado = cadena.replace(\"JS\", \"Python\")\n",
    "print (cadena)\n",
    "print (reemplazado)\n",
    "print (\"Función format\")\n",
    "cadena = \"El valor de PI es: {}\"\n",
    "formateado = cadena.format(3.1416)\n",
    "print (cadena)\n",
    "print (formateado)\n",
    "print (\"Función format con índices\")\n",
    "cadena = \"{2} es la suma de {0} y {1}\"\n",
    "valor_1 = 5\n",
    "valor_2 = 3\n",
    "resultado = valor_1+valor_2\n",
    "formateado = cadena.format(valor_1, valor_2, resultado)\n",
    "print (cadena)\n",
    "print (formateado)\n",
    "print (\"Función format con nombres\")\n",
    "cadena = \"{ciudad} es la capital de {pais}\"\n",
    "pais = \"Francia\"\n",
    "ciudad = \"París\"\n",
    "formateado = cadena.format(pais=pais, ciudad=ciudad)\n",
    "print (cadena)\n",
    "print (formateado)"
   ]
  },
  {
   "cell_type": "markdown",
   "id": "cfa83386",
   "metadata": {},
   "source": [
    "### Se puede formatear cadenas de forma más directa utilizando f-strings"
   ]
  },
  {
   "cell_type": "code",
   "execution_count": 36,
   "id": "2b1745ea",
   "metadata": {},
   "outputs": [
    {
     "name": "stdout",
     "output_type": "stream",
     "text": [
      "Función format con f-string\n",
      "La moneda de Bolivia es el Boliviano\n"
     ]
    }
   ],
   "source": [
    "print (\"Función format con f-string\")\n",
    "moneda = \"Boliviano\"\n",
    "pais = \"Bolivia\"\n",
    "formateado = f\"La moneda de {pais} es el {moneda}\"\n",
    "print (formateado)"
   ]
  }
 ],
 "metadata": {
  "kernelspec": {
   "display_name": "Python 3",
   "language": "python",
   "name": "python3"
  },
  "language_info": {
   "codemirror_mode": {
    "name": "ipython",
    "version": 3
   },
   "file_extension": ".py",
   "mimetype": "text/x-python",
   "name": "python",
   "nbconvert_exporter": "python",
   "pygments_lexer": "ipython3",
   "version": "3.10.6"
  }
 },
 "nbformat": 4,
 "nbformat_minor": 5
}
