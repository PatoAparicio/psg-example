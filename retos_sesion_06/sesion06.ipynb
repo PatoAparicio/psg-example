{
 "cells": [
  {
   "cell_type": "markdown",
   "id": "1489f4b3",
   "metadata": {},
   "source": [
    "# SESION 6 TIPOS DE DATOS\n",
    "## DATOS BOOLEANOS\n",
    "¿Qué es un Booleano?\n",
    "Es un tipo de dato lógico que solo puede tener dos valores posibles\n",
    "\n",
    "- True\n",
    "- False\n",
    "\n",
    "En python los booleanos están implementados como una subclase de los números enteros\n",
    "\n",
    "- Un booleano True puede ser considerado como el número 1\n",
    "- Un booleano False puede ser considerado como el número 0\n"
   ]
  },
  {
   "cell_type": "code",
   "execution_count": 1,
   "id": "3233b671",
   "metadata": {},
   "outputs": [
    {
     "name": "stdout",
     "output_type": "stream",
     "text": [
      "Tipos de datos booleanos\n",
      "True\n",
      "False\n",
      "2\n",
      "1\n",
      "0\n",
      "0\n",
      "0\n"
     ]
    }
   ],
   "source": [
    "print(\"Tipos de datos booleanos\")\n",
    "print (True)\n",
    "print (False)\n",
    "# Operaciones aritméticas con booleanos\n",
    "print (True + True)\n",
    "print (True * True)\n",
    "print (True * False)\n",
    "print (False + False)\n",
    "print (False * False)"
   ]
  },
  {
   "cell_type": "code",
   "execution_count": 2,
   "id": "439a54d7",
   "metadata": {},
   "outputs": [
    {
     "name": "stdout",
     "output_type": "stream",
     "text": [
      "Números y booleanos\n",
      "11\n",
      "10\n",
      "10\n",
      "0\n"
     ]
    }
   ],
   "source": [
    "print (\"Números y booleanos\")\n",
    "print (10 + True)\n",
    "print (10 + False)\n",
    "print (10 * True)\n",
    "print (10 * False)"
   ]
  },
  {
   "cell_type": "markdown",
   "id": "570b41fc",
   "metadata": {},
   "source": [
    "### Declarar un booleano"
   ]
  },
  {
   "cell_type": "code",
   "execution_count": null,
   "id": "ea4d8748",
   "metadata": {},
   "outputs": [
    {
     "name": "stdout",
     "output_type": "stream",
     "text": [
      "Declarar variables booleanas\n",
      "True\n",
      "<class 'bool'>\n",
      "False\n",
      "<class 'bool'>\n"
     ]
    }
   ],
   "source": [
    "print (\"Declarar variables booleanas\")\n",
    "var_booleana = True\n",
    "print (var_booleana)\n",
    "print (type(var_booleana))\n",
    "var_booleana = False\n",
    "print (var_booleana)\n",
    "print (type(var_booleana))\n",
    "print (\"Declarar mediante función bool()\")\n",
    "var_booleana = bool(1)\n",
    "print (var_booleana)\n",
    "print (type(var_booleana))\n",
    "var_booleana = bool(0)\n",
    "print (var_booleana)\n",
    "print (type(var_booleana))\n",
    "var_booleana = bool(15)\n",
    "print (var_booleana)\n",
    "print (type(var_booleana))"
   ]
  },
  {
   "cell_type": "markdown",
   "id": "2dd4604a",
   "metadata": {},
   "source": [
    "## ¿Cómo declarar un booleano?\n",
    "Se puede declarar como resultado de una operación de comparadores lógicos\n",
    "Operadores de comparación\n",
    "Los operadores de comparación son utilizados para comparar dos valores\n",
    "Como vimos en la \"Sesión 05: Datos Numéricos\"\n",
    "Existen operadores para realizar una comparación entre números\n",
    "Se adicionan dos más en total teniendo 8 operadores básicos\n",
    "El resultados de la operación de comparación es un objeto de tipo bool\n",
    "Puede ser True or False\n"
   ]
  },
  {
   "cell_type": "markdown",
   "id": "1c9e5073",
   "metadata": {},
   "source": [
    "### Operadores de comparación"
   ]
  },
  {
   "cell_type": "code",
   "execution_count": null,
   "id": "74526bbc",
   "metadata": {},
   "outputs": [
    {
     "name": "stdout",
     "output_type": "stream",
     "text": [
      "Operadores de comparación\n",
      "True\n",
      "False\n",
      "False\n",
      "False\n",
      "True\n",
      "True\n",
      "True\n",
      "False\n"
     ]
    },
    {
     "name": "stderr",
     "output_type": "stream",
     "text": [
      "<>:8: SyntaxWarning: \"is\" with a literal. Did you mean \"==\"?\n",
      "<>:9: SyntaxWarning: \"is not\" with a literal. Did you mean \"!=\"?\n",
      "<>:8: SyntaxWarning: \"is\" with a literal. Did you mean \"==\"?\n",
      "<>:9: SyntaxWarning: \"is not\" with a literal. Did you mean \"!=\"?\n",
      "C:\\Users\\Patricia\\AppData\\Local\\Temp\\ipykernel_14684\\1932318903.py:8: SyntaxWarning: \"is\" with a literal. Did you mean \"==\"?\n",
      "  print (10 is 10)\n",
      "C:\\Users\\Patricia\\AppData\\Local\\Temp\\ipykernel_14684\\1932318903.py:9: SyntaxWarning: \"is not\" with a literal. Did you mean \"!=\"?\n",
      "  print (10 is not 10)\n"
     ]
    }
   ],
   "source": [
    "print (\"Operadores de comparación\")\n",
    "print (10 == 10)\n",
    "print (10 != 10)\n",
    "print (10 < 10)\n",
    "print (10 > 10)\n",
    "print (10 <= 10)\n",
    "print (10 >= 10)\n",
    "print (10 is 10)\n",
    "print (10 is not 10)\n",
    "print (\"Asignación de variables\")\n",
    "x = 10\n",
    "mayor_que_cero = x > 0\n",
    "print (mayor_que_cero)\n",
    "diferente_de_10 = x != 10\n",
    "print (diferente_de_10)"
   ]
  },
  {
   "cell_type": "markdown",
   "id": "085c28e2",
   "metadata": {},
   "source": [
    "### Operadores lógicos\n",
    "Son operadores especiales que nos permiten realizar cálculos lógicos para agrupar, excluir y negar expresiones\n",
    "\n",
    "Existen tres operadores lógicos:\n",
    "\n",
    "- not: Negación lógica\n",
    "- and: Conjunción lógica\n",
    "- or: Disyunción lógica\n",
    "\n",
    "### not Significa \"NO\".\n",
    "Es un operador unario, lo que significa que solo necesita una expresión.\n",
    "Su función es invertir el valor lógico de la expresión.\n",
    "Si la expresión es True, not la convierte en False.\n",
    "Si la expresión es False, not la convierte en True.\n",
    "### and Significa \"Y\".\n",
    "Es un operador binario, lo que significa que necesita dos expresiones.\n",
    "Su función es verificar si ambas expresiones son verdaderas.\n",
    "El resultado es True solo si las dos expresiones son True.\n",
    "Si alguna de las expresiones es False, el resultado es False.\n",
    "### or Significa \"O\".\n",
    "Es un operador binario, lo que significa que necesita dos expresiones.\n",
    "Su función es verificar si al menos una de las expresiones es verdadera.\n",
    "El resultado es True si al menos una de las expresiones es True.\n",
    "Si ambas expresiones son False, el resultado es False."
   ]
  },
  {
   "cell_type": "code",
   "execution_count": 5,
   "id": "351dd1c9",
   "metadata": {},
   "outputs": [
    {
     "name": "stdout",
     "output_type": "stream",
     "text": [
      "Operadores lógicos\n",
      "True\n",
      "False\n",
      "True\n",
      "False\n",
      "False\n",
      "True\n"
     ]
    }
   ],
   "source": [
    "print (\"Operadores lógicos\")\n",
    "print (True and True)\n",
    "print (True and False)\n",
    "print (False or True)\n",
    "print (False or False)\n",
    "print (not True)\n",
    "print (not False)"
   ]
  },
  {
   "cell_type": "markdown",
   "id": "3a8f4786",
   "metadata": {},
   "source": [
    "### Operadores lógicos y prioridad\n",
    "1. Se ejecuta el operador de negación not\n",
    "2. Se evalúan las operaciones de conjunción and\n",
    "3. Finalmente las operaciones de disyunción or\n",
    "4. Se puede utilizar paréntesis para evaluar una operación antes que otras, como en los operadores aritméticos"
   ]
  },
  {
   "cell_type": "code",
   "execution_count": null,
   "id": "cb677c5c",
   "metadata": {},
   "outputs": [
    {
     "name": "stdout",
     "output_type": "stream",
     "text": [
      "True\n",
      "False\n",
      "True\n",
      "True\n",
      "False\n",
      "False\n"
     ]
    }
   ],
   "source": [
    "print(\"Operadores lógicos y prioridad\")\n",
    "print(False and False or True)\n",
    "print(False and (False or True))\n",
    "print(not True and False or True)\n",
    "print(not (True and False or False))\n",
    "print(not True and (False or False))\n",
    "print(not True and False or False)"
   ]
  },
  {
   "cell_type": "markdown",
   "id": "c05fe68f",
   "metadata": {},
   "source": [
    "### Funciones lógicas básicas y Tablas de Verdad\n",
    "### ¿Qué son las tablas de verdad?\n",
    "Las tablas de verdad son una herramienta que nos permite representar el comportamiento lógico de las expresiones o circuitos digitales\n",
    "Muestra todas las combinaciones posibles de valores de entrada. Como 1 y 0 o True y False\n",
    "Indica el resultado de salida para cada combinación, según la lógica definida con los operadores and, or y not\n",
    "Construcción de tablas de verdad\n",
    "Se construyen a partir de las combinaciones posibles de valores de entrada\n",
    "Cada fila de la tabla representa una combinación de valores de entrada\n",
    "La última columna representa el resultado de la operación lógica para esa combinación\n",
    "El número de filas en la tabla depende del número de variables de entrada\n",
    "Tamaño de la tabla de verdad\n",
    "El tamaño de una tabla de verdad se determina usando la fórmula:\n",
    "\n",
    "$$ 2^n $$\n",
    "\n",
    "Donde n representa la cantidad de variables lógicas o entradas.\n",
    "Existen otras funciones lógicas que nacen a partir de las tres fundamentales\n",
    "\n",
    "NAND: Negación de la función AND\n",
    "NOR: Negación de la función OR\n",
    "XOR: Función O exclusiva, True cuando los dos términos son diferentes y False cuando son Iguales \"O el uno O el otro\"\n",
    "XNOR: Negación de la función XO"
   ]
  },
  {
   "cell_type": "code",
   "execution_count": 7,
   "id": "1770e600",
   "metadata": {},
   "outputs": [
    {
     "name": "stdout",
     "output_type": "stream",
     "text": [
      "Operador AND\n",
      "True\n",
      "False\n",
      "False\n",
      "False\n",
      "Operador OR\n",
      "True\n",
      "True\n",
      "True\n",
      "False\n",
      "Operador NOT\n",
      "False\n",
      "True\n",
      "Operador NAND\n",
      "False\n",
      "True\n",
      "True\n",
      "True\n",
      "Operador NOR\n",
      "False\n",
      "False\n",
      "False\n",
      "True\n",
      "Operador XOR\n",
      "True\n",
      "False\n"
     ]
    }
   ],
   "source": [
    "print (\"Operador AND\")\n",
    "print (True and True)\n",
    "print (True and False)\n",
    "print (False and True)\n",
    "print (False and False)\n",
    "print (\"Operador OR\")\n",
    "print (True or True)\n",
    "print (True or False)\n",
    "print (False or True)\n",
    "print (False or False)\n",
    "print (\"Operador NOT\")\n",
    "print (not True)\n",
    "print (not False)\n",
    "print (\"Operador NAND\")\n",
    "print (not (True and True))\n",
    "print (not (True and False))\n",
    "print (not (False and True))\n",
    "print (not (False and False))\n",
    "print (\"Operador NOR\")\n",
    "print (not (True or True))\n",
    "print (not (True or False))\n",
    "print (not (False or True))\n",
    "print (not (False or False))\n",
    "print (\"Operador XOR\")\n",
    "a = True\n",
    "b = False\n",
    "print ((a or b) and not (a and b))\n",
    "a = True\n",
    "b = True\n",
    "print ((a or b) and not (a and b))\n"
   ]
  },
  {
   "cell_type": "markdown",
   "id": "3d524454",
   "metadata": {},
   "source": [
    "## Si un sensor detecta movimiento y tiene batería entonces enciende la luz"
   ]
  },
  {
   "cell_type": "code",
   "execution_count": null,
   "id": "7c839c3b",
   "metadata": {},
   "outputs": [],
   "source": [
    "print (\"Ejemplo de uso Sensor y Batería\")\n",
    "sensor = True\n",
    "bateria = True\n",
    "print (sensor, \"and\", bateria, \"=\", sensor and bateria)\n",
    "sensor = True\n",
    "bateria = False\n",
    "print (sensor, \"and\", bateria, \"=\", sensor and bateria)\n",
    "sensor = False\n",
    "bateria = True\n",
    "print (sensor, \"and\", bateria, \"=\", sensor and bateria)\n",
    "sensor = False\n",
    "bateria = False\n",
    "print (sensor, \"and\", bateria, \"=\", sensor and bateria)"
   ]
  },
  {
   "cell_type": "markdown",
   "id": "59fd3ff5",
   "metadata": {},
   "source": [
    "## EJEMPLO 1\n",
    "Determinar si el número 20 está en el rango 0 a 100"
   ]
  },
  {
   "cell_type": "code",
   "execution_count": 8,
   "id": "5b9456d1",
   "metadata": {},
   "outputs": [
    {
     "name": "stdout",
     "output_type": "stream",
     "text": [
      "Ejemplo 1 - Comparación y Lógicos\n",
      "True\n"
     ]
    }
   ],
   "source": [
    "print (\"Ejemplo 1 - Comparación y Lógicos\")\n",
    "numero = 20\n",
    "print (numero >= 0 and numero <= 100)"
   ]
  },
  {
   "cell_type": "markdown",
   "id": "f962f1e6",
   "metadata": {},
   "source": [
    "## Ejemplo 2\n",
    "\n",
    "Un estudiante obtuvo las siguientes notas en sus exámenes: 15, 20, 16 determinar si el estudiante aprobó con una nota superior a 50"
   ]
  },
  {
   "cell_type": "code",
   "execution_count": 9,
   "id": "6356c12e",
   "metadata": {},
   "outputs": [
    {
     "name": "stdout",
     "output_type": "stream",
     "text": [
      "Ejemplo 2 - Aritméticos y comparación\n",
      "True\n"
     ]
    }
   ],
   "source": [
    "print (\"Ejemplo 2 - Aritméticos y comparación\")\n",
    "nota1 = 15\n",
    "nota2 = 20\n",
    "nota3 = 16\n",
    "print ((nota1 + nota2 + nota3) > 50)"
   ]
  },
  {
   "cell_type": "markdown",
   "id": "4390c6e4",
   "metadata": {},
   "source": [
    "### Ejemplo 3\n",
    "\n",
    "Determinar si el número 15 es divisible por 3 y 5, pero no por 2"
   ]
  },
  {
   "cell_type": "code",
   "execution_count": 10,
   "id": "f94dc52f",
   "metadata": {},
   "outputs": [
    {
     "name": "stdout",
     "output_type": "stream",
     "text": [
      "Ejemplo 3 - Aritméticos, comparación y lógicos\n",
      "True\n"
     ]
    }
   ],
   "source": [
    "print (\"Ejemplo 3 - Aritméticos, comparación y lógicos\")\n",
    "numero = 15\n",
    "print ((numero % 3 ==0) and (numero % 5 ==0) and (numero % 2 !=0))"
   ]
  },
  {
   "cell_type": "markdown",
   "id": "e32ca037",
   "metadata": {},
   "source": [
    "### Cortocircuitos\n",
    "Es un comportamiento de los operadores lógicos \"and\" y \"or\" al momento de evaluar expresiones booleanas\n",
    "\n",
    "Se basa en la evaluación perezosa\n",
    "\n",
    "Cortocircuito con \"and\": Cuando se evalúa una expresión en la cual el primer término de la expresión es False\n",
    "\n",
    "no importa el resultado del segundo término la expresión siempre será False\n",
    "\n",
    "Por lo cual no evalúa al segundo término por ya sabe que será False el resultado"
   ]
  },
  {
   "cell_type": "code",
   "execution_count": null,
   "id": "2d1597a9",
   "metadata": {},
   "outputs": [],
   "source": [
    "print (\"Cortocircuito con operador and\")\n",
    "x = 1\n",
    "y = 0\n",
    "print (x > 2 and (x/y) > 2)\n",
    "print (x > 0 and (x/y) > 0)"
   ]
  },
  {
   "cell_type": "markdown",
   "id": "b5f421d6",
   "metadata": {},
   "source": [
    "Cortocircuito con \"or\": Cuando se evalúa una expresión en la cual el primer término de la expresión es True\n",
    "\n",
    "El resultado siempre será True por lo que Python no evalúa el segundo término\n",
    "\n",
    "Ya que sabe cuál será el resultado"
   ]
  },
  {
   "cell_type": "code",
   "execution_count": null,
   "id": "24047081",
   "metadata": {},
   "outputs": [],
   "source": [
    "print (\"Cortocircuito con operador or\")\n",
    "x = 1\n",
    "y = 0\n",
    "print (x > 0 or (x/y) > 0)\n",
    "print (x > 2 or (x/y) > 2)"
   ]
  }
 ],
 "metadata": {
  "kernelspec": {
   "display_name": "Python 3",
   "language": "python",
   "name": "python3"
  },
  "language_info": {
   "codemirror_mode": {
    "name": "ipython",
    "version": 3
   },
   "file_extension": ".py",
   "mimetype": "text/x-python",
   "name": "python",
   "nbconvert_exporter": "python",
   "pygments_lexer": "ipython3",
   "version": "3.10.6"
  }
 },
 "nbformat": 4,
 "nbformat_minor": 5
}
