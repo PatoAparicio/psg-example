{
 "cells": [
  {
   "cell_type": "markdown",
   "id": "1489f4b3",
   "metadata": {},
   "source": [
    "# SESION 12 ESTRUCTURA DE CONTROL DE FLUJO\n",
    "## SENTENCIAS CONDICIONALES\n",
    "### Estructura de control\n",
    "En un programa las estructuras de control son el orden en el que se ejecutan las instrucciones\n",
    "Python soporta las siguientes estructuras de control\n",
    "- Secuencial o lineal\n",
    "- Selección o condicionales\n",
    "- Repetición o ciclos\n",
    "### Secuencial o lineal\n",
    "Es la ejecución de las instrucciones en el orden en el que se escriben\n",
    "### Selección o condicionales\n",
    "Las estructuras de selección o condicionales permiten ejecutar un bloque de código si se cumple una condición\n",
    "En Python se utilizan las siguientes condicionales\n",
    "- if\n",
    "- else\n",
    "- if anidado\n",
    "- elif\n"
   ]
  },
  {
   "cell_type": "markdown",
   "id": "59dd062b",
   "metadata": {},
   "source": [
    "## if\n",
    "La sentencia if permite ejecutar un bloque de código si se cumple una condición\n",
    "La condición tiene que ser un booleano"
   ]
  },
  {
   "cell_type": "code",
   "execution_count": 37,
   "id": "3233b671",
   "metadata": {},
   "outputs": [
    {
     "name": "stdout",
     "output_type": "stream",
     "text": [
      "Inicio\n",
      "Cumple condición\n",
      "Fin\n",
      "Inicio\n",
      "El número es par\n",
      "Fin\n",
      "Inicio\n",
      "El número es par\n",
      "Fin\n"
     ]
    }
   ],
   "source": [
    "print (\"Inicio\")\n",
    "condicion = True\n",
    "if condicion:\n",
    "    # Bloque de código\n",
    "    print (\"Cumple condición\")\n",
    "print (\"Fin\")\n",
    "\n",
    "#Ejemplo: Dado un número, imprimir si es par\n",
    "\n",
    "print (\"Inicio\")\n",
    "numero = 4\n",
    "if numero % 2 == 0: # Si el módulo de 2 es 0\n",
    "    print (\"El número es par\")\n",
    "print (\"Fin\")\n",
    "print (\"Inicio\")\n",
    "numero = 4\n",
    "if numero % 2 == 0: # Si el módulo de 2 es 0\n",
    "    print (\"El número es par\")\n",
    "print (\"Fin\")\n"
   ]
  },
  {
   "cell_type": "code",
   "execution_count": null,
   "id": "1bc3b5b7",
   "metadata": {},
   "outputs": [],
   "source": []
  },
  {
   "cell_type": "markdown",
   "id": "439a54d7",
   "metadata": {},
   "source": [
    "## if-else\n",
    "La sentencia else permite ejecutar un bloque de código si no se cumple la condición del if\n",
    "Si la condición es True se ejecuta el bloque de código del if\n",
    "Si la condición es False se ejecuta el bloque de código del else"
   ]
  },
  {
   "cell_type": "code",
   "execution_count": 38,
   "id": "8ec79363",
   "metadata": {},
   "outputs": [
    {
     "name": "stdout",
     "output_type": "stream",
     "text": [
      "Cumple\n",
      "Inicio\n",
      "No cumple condición\n",
      "Fin\n",
      "Inicio\n",
      "El número es impar\n",
      "Fin\n"
     ]
    }
   ],
   "source": [
    "if condicion:\n",
    "    print (\"Cumple\")\n",
    "else:\n",
    "    print (\"No cumple\")\n",
    "\n",
    "print (\"Inicio\")\n",
    "condicion = False\n",
    "if condicion:\n",
    "    # Bloque de código\n",
    "    print (\"Cumple condición\")\n",
    "else:\n",
    "    # Bloque de código\n",
    "    print (\"No cumple condición\")\n",
    "print (\"Fin\")\n",
    "\n",
    "#Ejemplo: Dado un número, imprimir si es par o impar\n",
    "\n",
    "print (\"Inicio\")\n",
    "numero = 3\n",
    "if numero % 2 == 0: # Si el módulo de 2 es 0\n",
    "    print (\"El número es par\")\n",
    "else:\n",
    "    print (\"El número es impar\")\n",
    "print (\"Fin\")"
   ]
  },
  {
   "cell_type": "markdown",
   "id": "570b41fc",
   "metadata": {},
   "source": [
    "### if-anidado\n",
    "La sentencia if anidado permite ejecutar un bloque de código si se cumple una condición\n",
    "Dentro del bloque de código del if-else se puede anidar otro if-else de manera ilimitada"
   ]
  },
  {
   "cell_type": "code",
   "execution_count": 39,
   "id": "ea4d8748",
   "metadata": {},
   "outputs": [
    {
     "name": "stdout",
     "output_type": "stream",
     "text": [
      "Cumple condición 1\n",
      "No cumple condición 2\n",
      "Fin\n",
      "Inicio Par, Impar o Cero\n",
      "El número es cero\n",
      "Fin\n"
     ]
    }
   ],
   "source": [
    "condicion_1 = True\n",
    "condicion_2 = False\n",
    "if condicion_1:\n",
    "    print (\"Cumple condición 1\")\n",
    "    if condicion_2:\n",
    "        print (\"Cumple condición 2\")\n",
    "    else:\n",
    "        print (\"No cumple condición 2\")\n",
    "else:\n",
    "    print (\"No cumple condición 1\")\n",
    "print (\"Fin\")\n",
    "\n",
    "#Ejemplo: Dado un número, imprimir si es par, impar o cero\n",
    "\n",
    "print (\"Inicio Par, Impar o Cero\")\n",
    "numero = 0  \n",
    "if numero > 0 or numero < 0:\n",
    "    if numero % 2 == 0: # Si el módulo de 2 es 0\n",
    "        print (\"El número es par\")\n",
    "    else:\n",
    "        print (\"El número es impar\")\n",
    "else:\n",
    "    print (\"El número es cero\")\n",
    "print (\"Fin\")"
   ]
  },
  {
   "cell_type": "markdown",
   "id": "1c9e5073",
   "metadata": {},
   "source": [
    "### elif\n",
    "La sentencia elif es la abreviatura de else if\n",
    "Permite ejecutar un bloque de código si no se cumple la condición del if y sí cumple una nueva condición"
   ]
  },
  {
   "cell_type": "code",
   "execution_count": 40,
   "id": "74526bbc",
   "metadata": {},
   "outputs": [
    {
     "name": "stdout",
     "output_type": "stream",
     "text": [
      "Cumple 1\n",
      "Inicio ELIF\n",
      "Cumple condición 2\n",
      "Fin\n",
      "Inicio Positivo, Negativo o Cero\n",
      "El número es negativo\n"
     ]
    }
   ],
   "source": [
    "if condicion_1:\n",
    "    print (\"Cumple 1\")\n",
    "elif condicion_2:\n",
    "    print (\"Cumple 2\")\n",
    "else:\n",
    "    print (\"No cumple 1 ni 2\")\n",
    "\n",
    "print (\"Inicio ELIF\")\n",
    "condicion_1 = False\n",
    "condicion_2 = True\n",
    "if condicion_1:\n",
    "    print (\"Cumple condición 1\")\n",
    "elif condicion_2:\n",
    "    print (\"Cumple condición 2\")\n",
    "else:\n",
    "    print (\"No cumple condición 1 ni 2\")\n",
    "print (\"Fin\")\n",
    "\n",
    "#Ejemplo: Dado un número, imprimir si es positivo, negativo o cero\n",
    "\n",
    "print (\"Inicio Positivo, Negativo o Cero\")\n",
    "numero = -1\n",
    "if numero > 0:\n",
    "    print (\"El número es positivo\")\n",
    "elif numero < 0:\n",
    "    print (\"El número es negativo\")\n",
    "else:\n",
    "    print (\"El número es cero\")"
   ]
  },
  {
   "cell_type": "markdown",
   "id": "3a8f4786",
   "metadata": {},
   "source": [
    "### Operador ternario\n",
    "El operador ternario es una forma de compactar una condicional en una sola línea\n",
    "Como su nombre lo indica, tiene tres partes\n",
    "    - resultado = verdadero if condicion else falso\n",
    "Condición\n",
    "Resultado verdadero si es True\n",
    "Resultado falso si es False"
   ]
  },
  {
   "cell_type": "code",
   "execution_count": 41,
   "id": "cb677c5c",
   "metadata": {},
   "outputs": [
    {
     "name": "stdout",
     "output_type": "stream",
     "text": [
      "Inicio Ternario\n",
      "Cumple\n",
      "Fin\n",
      "Inicio Ternario Par, Impar\n",
      "El número es impar\n",
      "Fin\n"
     ]
    }
   ],
   "source": [
    "print (\"Inicio Ternario\")\n",
    "condicion = True\n",
    "resultado = \"Cumple\" if condicion else \"No cumple\"\n",
    "print (resultado)\n",
    "print (\"Fin\")\n",
    "\n",
    "#Ejemplo: Dado un número, imprimir si es par o impar\n",
    "\n",
    "print (\"Inicio Ternario Par, Impar\")\n",
    "numero = 3\n",
    "resultado = \"El número es par\" if numero % 2 == 0 else \"El número es impar\"\n",
    "print (resultado)\n",
    "print (\"Fin\")"
   ]
  },
  {
   "cell_type": "markdown",
   "id": "b8c6ff80",
   "metadata": {},
   "source": [
    "### Truthiness\n",
    "Es un término que se utiliza para describir el valor de verdad de un objeto\n",
    "En Python, todos los objetos tienen un valor de verdad\n",
    "Hay valores que se consideran True y otros que se consideran False\n",
    "\n",
    "En enteros:\n",
    "- 0 es False\n",
    "- 1 es True\n",
    "- -1 es True"
   ]
  },
  {
   "cell_type": "code",
   "execution_count": 42,
   "id": "bb40f1b9",
   "metadata": {},
   "outputs": [
    {
     "name": "stdout",
     "output_type": "stream",
     "text": [
      "Truthiness Enteros\n",
      "5 2\n",
      "2.5\n",
      "Fin\n",
      "Truthiness Flotantes\n",
      "4.0 2.0\n",
      "2.0\n",
      "Fin\n",
      "Truthiness Cadenas\n",
      "asdfg\n",
      "La cadena no está vacía\n",
      "Fin\n",
      "Truthiness Tuplas\n",
      "('a', 's', 'd', 'f')\n",
      "La tupla no está vacía\n",
      "Fin\n",
      "Truthiness Listas\n",
      "['s', 'f']\n",
      "La lista no está vacía\n",
      "Fin\n",
      "Truthiness Conjuntos\n",
      "{'f', 's', 'e', 'd'}\n",
      "El conjunto no está vacío\n",
      "Fin\n",
      "Truthiness Diccionarios\n",
      "{'ss': '2'}\n",
      "El diccionario no está vacío\n",
      "Fin\n",
      "Truthiness None\n",
      "None <class 'NoneType'>\n",
      "El valor es None\n",
      "Fin\n",
      "Diferente de 0\n",
      "Diferente de 0.0\n",
      "No está vacía\n"
     ]
    }
   ],
   "source": [
    "print (\"Truthiness Enteros\")\n",
    "dividendo = int(input(\"Dividendo: \"))\n",
    "divisor = int(input(\"Divisor: \"))\n",
    "print (dividendo,divisor)\n",
    "if divisor: #divisor != 0\n",
    "    print (dividendo / divisor)\n",
    "else:\n",
    "    print (\"No se puede dividir entre cero\")\n",
    "print (\"Fin\")\n",
    "\n",
    "print (\"Truthiness Flotantes\")\n",
    "dividendo = float(input(\"Dividendo: \"))\n",
    "divisor = float(input(\"Divisor: \"))\n",
    "print (dividendo,divisor)\n",
    "if divisor: #divisor != 0.0\n",
    "    print (dividendo / divisor)\n",
    "else:\n",
    "    print (\"No se puede dividir entre cero\")\n",
    "print (\"Fin\")\n",
    "\n",
    "print (\"Truthiness Cadenas\")\n",
    "cadena = input(\"Cadena: \")\n",
    "print (cadena)\n",
    "if cadena: # len(cadena) != 0 or cadena != \"\" \n",
    "    print (\"La cadena no está vacía\")\n",
    "else:\n",
    "    print (\"La cadena está vacía\")\n",
    "print (\"Fin\")\n",
    "\n",
    "print (\"Truthiness Tuplas\")\n",
    "tupla = tuple(input(\"Tupla: \"))\n",
    "print (tupla)\n",
    "if tupla: # len(tupla) != 0 or tupla != ()\n",
    "    print (\"La tupla no está vacía\")\n",
    "else:\n",
    "    print (\"La tupla está vacía\")\n",
    "print (\"Fin\")\n",
    "\n",
    "print (\"Truthiness Listas\")\n",
    "lista = list(input(\"Lista: \"))\n",
    "print (lista)\n",
    "if lista: # len(lista) != 0 or lista != []\n",
    "    print (\"La lista no está vacía\")\n",
    "else:\n",
    "    print (\"La lista está vacía\")\n",
    "print (\"Fin\")\n",
    "\n",
    "print (\"Truthiness Conjuntos\")\n",
    "conjunto = set(input(\"Conjunto: \"))\n",
    "print (conjunto)\n",
    "if conjunto: # len(conjunto) != 0 or conjunto != set()\n",
    "    print (\"El conjunto no está vacío\")\n",
    "else:\n",
    "    print (\"El conjunto está vacío\")\n",
    "print (\"Fin\")\n",
    "\n",
    "print (\"Truthiness Diccionarios\")\n",
    "diccionario = {}\n",
    "clave = input(\"Clave: \")\n",
    "valor = input(\"Valor: \")\n",
    "if clave:\n",
    "  diccionario = {clave:valor}\n",
    "print (diccionario)\n",
    "if diccionario: # diccionario != {}\n",
    "    print (\"El diccionario no está vacío\")\n",
    "else:\n",
    "    print (\"El diccionario está vacío\")\n",
    "print (\"Fin\")\n",
    "\n",
    "print (\"Truthiness None\")\n",
    "valor = None\n",
    "print (valor, type(valor))\n",
    "if valor: # valor != None\n",
    "    print (\"El valor no es None\")\n",
    "else:\n",
    "    print (\"El valor es None\")\n",
    "print (\"Fin\")\n",
    "\n",
    "entero = int(input(\"Entero: \"))\n",
    "resultado = \"Diferente de 0\" if entero else \"Igual a 0\"\n",
    "print (resultado)\n",
    "flotante = float(input(\"Flotante: \"))\n",
    "resultado = \"Diferente de 0.0\" if flotante else \"Igual a 0.0\"\n",
    "print (resultado)\n",
    "cadena = input(\"Cadena: \")\n",
    "resultado = \"No está vacía\" if cadena else \"Está vacía\"\n",
    "print (resultado)"
   ]
  },
  {
   "cell_type": "markdown",
   "id": "2874409a",
   "metadata": {},
   "source": [
    "### Ejemplos"
   ]
  },
  {
   "cell_type": "markdown",
   "id": "85b849c1",
   "metadata": {},
   "source": [
    "Tienes un dispositivo que mide la temperatura y si la temperatura es mayor a 30°C enciende un ventilador y si es menor a 20°C lo apaga"
   ]
  },
  {
   "cell_type": "code",
   "execution_count": 43,
   "id": "08a609f2",
   "metadata": {},
   "outputs": [],
   "source": [
    "temperatura = float(input(\"Temperatura: \"))\n",
    "if temperatura > 30:\n",
    "    print (\"Encender ventilador\")\n",
    "elif temperatura < 20:\n",
    "    print (\"Apagar ventilador\")\n"
   ]
  },
  {
   "cell_type": "markdown",
   "id": "8e53189a",
   "metadata": {},
   "source": [
    "Tienes una cesta de frutas y quieres saber si tienes manzanas, si hay manzanas las cuentas y si no hay compras dos manzanas"
   ]
  },
  {
   "cell_type": "code",
   "execution_count": 44,
   "id": "270a12c3",
   "metadata": {},
   "outputs": [
    {
     "name": "stdout",
     "output_type": "stream",
     "text": [
      "['🍎', '🍑', '🍓', '🍉']\n",
      "Hay 1 manzanas\n",
      "['🍑', '🍓', '🍉']\n",
      "None\n",
      "['🍑', '🍓', '🍉', '🍎', '🍎']\n"
     ]
    }
   ],
   "source": [
    "cesta = ['🍎','🍑','🍓','🍉']\n",
    "print (cesta)\n",
    "if '🍎' in cesta:\n",
    "    print (f\"Hay {cesta.count('🍎')} manzanas\")\n",
    "else:\n",
    "    cesta.extend(['🍎','🍎'])\n",
    "    print (cesta)\n",
    "\n",
    "cesta = ['🍑','🍓','🍉']\n",
    "print (cesta)\n",
    "resultado = f\"Hay {cesta.count('🍎')} manzanas\" if '🍎' in cesta else cesta.extend(['🍎','🍎'])\n",
    "print (resultado)\n",
    "print (cesta)"
   ]
  },
  {
   "cell_type": "markdown",
   "id": "9527d716",
   "metadata": {},
   "source": [
    "En un diccionario tienes almacenado un animal y quieres saber si es un mamífero\n",
    "\n",
    "animal = {'especie':'🐶', 'nombre': 'Firulais', 'mamifero': True}"
   ]
  },
  {
   "cell_type": "code",
   "execution_count": 45,
   "id": "948bf228",
   "metadata": {},
   "outputs": [
    {
     "name": "stdout",
     "output_type": "stream",
     "text": [
      "{'especie': '🐶', 'nombre': 'Firulais', 'mamifero': True}\n",
      "Es un mamífero\n"
     ]
    }
   ],
   "source": [
    "animal = {'especie':'🐶', 'nombre': 'Firulais', 'mamifero': True}\n",
    "print (animal)\n",
    "if animal.get('mamifero'): # animal['mamifero']\n",
    "    print (\"Es un mamífero\")\n",
    "else:\n",
    "    print (\"No es un mamífero\")"
   ]
  },
  {
   "cell_type": "markdown",
   "id": "e32a4f8e",
   "metadata": {},
   "source": [
    "Dado dos conjuntos, verificar si tienen elementos en común y mostrarlos y si no, unirlos\n",
    "\n",
    "{'⚽','🏀','🏐'} , {'🏈','🏉','🏓'}"
   ]
  },
  {
   "cell_type": "code",
   "execution_count": 46,
   "id": "3298ad10",
   "metadata": {},
   "outputs": [
    {
     "name": "stdout",
     "output_type": "stream",
     "text": [
      "{'⚽', '🏐', '🏀'} {'🏓', '🏈', '🏉'}\n",
      "{'⚽', '🏐', '🏀', '🏓', '🏈', '🏉'}\n"
     ]
    }
   ],
   "source": [
    "conjunto_1 = {'⚽','🏀','🏐'}\n",
    "conjunto_2 = {'🏈','🏉','🏓'}\n",
    "print (conjunto_1, conjunto_2)\n",
    "if conjunto_1.isdisjoint(conjunto_2): # len(conjunto_1.intersection(conjunto_2)) == 0\n",
    "    conjunto_1.update(conjunto_2)\n",
    "    print (conjunto_1)\n",
    "else:\n",
    "    print (\"Tienen elementos en común\")\n",
    "    print (conjunto_1.intersection(conjunto_2))"
   ]
  },
  {
   "cell_type": "markdown",
   "id": "c7b494b8",
   "metadata": {},
   "source": [
    "Validar si un correo electrónico es válido usando input\n",
    "\n",
    "✅: mail@domain.com, ma.il@domain.com\n",
    "❌: mail@domain, maildomain.com, @.\n",
    "❌: mail@@domain.com, mail@.com"
   ]
  },
  {
   "cell_type": "code",
   "execution_count": null,
   "id": "c568383d",
   "metadata": {},
   "outputs": [],
   "source": [
    "correo = input(\"Correo: \")\n",
    "if \"@\" in correo and \".\" in correo and correo.count(\"@\") == 1:\n",
    "    if correo.find(\"@\") < correo.rfind(\".\") and correo.find(\"@\") > 0 and correo.rfind(\".\") < len(correo) - 1:\n",
    "        if correo.rfind(\".\") - correo.find(\"@\") > 1:\n",
    "            if correo.find(\".\") - correo.find(\"@\") > 1:\n",
    "                print (\"El correo es válido\")\n",
    "            else:\n",
    "                print (\"El correo no es válido\")\n",
    "        else:\n",
    "            print (\"El correo no es válido\")\n",
    "    else:\n",
    "        print (\"El correo no es válido\")\n",
    "else:\n",
    "    print (\"El correo no es válido\")\n",
    "\n",
    "#Solución con elif\n",
    "\n",
    "correo = input(\"Correo: \")\n",
    "if \"@\" not in correo or \".\" not in correo or correo.count(\"@\") != 1:\n",
    "    print(\"El correo no es válido\")\n",
    "elif correo.find(\"@\") >= correo.rfind(\".\") or correo.find(\"@\") == 0 or correo.rfind(\".\") == len(correo) - 1:\n",
    "    print(\"El correo no es válido\")\n",
    "elif correo.rfind(\".\") - correo.find(\"@\") <= 1:\n",
    "    print(\"El correo no es válido\")\n",
    "elif correo.find(\".\") - correo.find(\"@\") == 1:\n",
    "    print(\"El correo no es válido\")\n",
    "else:\n",
    "    print(\"El correo es válido\")\n",
    "correo = input(\"Correo: \")\n",
    "if \"@\" not in correo or \".\" not in correo or correo.count(\"@\") != 1:\n",
    "    print(\"El correo no es válido\")\n",
    "elif correo.find(\"@\") >= correo.rfind(\".\") or correo.find(\"@\") == 0 or correo.rfind(\".\") == len(correo) - 1:\n",
    "    print(\"El correo no es válido\")\n",
    "elif correo.rfind(\".\") - correo.find(\"@\") <= 1:\n",
    "    print(\"El correo no es válido\")\n",
    "elif correo.find(\".\") - correo.find(\"@\") == 1:\n",
    "    print(\"El correo no es válido\")\n",
    "else:\n",
    "    print(\"El correo es válido\")"
   ]
  }
 ],
 "metadata": {
  "kernelspec": {
   "display_name": "Python 3",
   "language": "python",
   "name": "python3"
  },
  "language_info": {
   "codemirror_mode": {
    "name": "ipython",
    "version": 3
   },
   "file_extension": ".py",
   "mimetype": "text/x-python",
   "name": "python",
   "nbconvert_exporter": "python",
   "pygments_lexer": "ipython3",
   "version": "3.13.3"
  }
 },
 "nbformat": 4,
 "nbformat_minor": 5
}
