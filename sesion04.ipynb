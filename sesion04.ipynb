{
 "cells": [
  {
   "cell_type": "code",
   "execution_count": 2,
   "id": "ae9b2aac",
   "metadata": {},
   "outputs": [
    {
     "name": "stdout",
     "output_type": "stream",
     "text": [
      "Hola, Mundo desde Notebook!\n"
     ]
    }
   ],
   "source": [
    "# Code 01\n",
    "print (\"Hola, Mundo desde Notebook!\")"
   ]
  },
  {
   "cell_type": "code",
   "execution_count": 6,
   "id": "032f4b1e",
   "metadata": {},
   "outputs": [
    {
     "name": "stdout",
     "output_type": "stream",
     "text": [
      "  ___________\n",
      " (___________)\n",
      "(_____________)\n",
      "(_____________)\n",
      " (___________)\n",
      "      |||  \n",
      "      |||  \n",
      "      |||  \n"
     ]
    }
   ],
   "source": [
    "print (\"  ___________\")\n",
    "print (\" (___________)\")\n",
    "print (\"(_____________)\")\n",
    "print (\"(_____________)\")\n",
    "print (\" (___________)\")\n",
    "print (\"      |||  \")\n",
    "print (\"      |||  \")\n",
    "print (\"      |||  \")"
   ]
  },
  {
   "cell_type": "markdown",
   "id": "0878b6e4",
   "metadata": {},
   "source": [
    "# Sesión 04\n",
    "- Mi primer notebook\n",
    "- Imprimir árbol\n",
    "- Crear Markdown\n",
    "- Subir a mi repositorio de GitHub\n",
    "- Dibujar un emoji 😎"
   ]
  },
  {
   "cell_type": "code",
   "execution_count": null,
   "id": "0adfd8d2",
   "metadata": {},
   "outputs": [],
   "source": []
  }
 ],
 "metadata": {
  "kernelspec": {
   "display_name": "Python 3",
   "language": "python",
   "name": "python3"
  },
  "language_info": {
   "codemirror_mode": {
    "name": "ipython",
    "version": 3
   },
   "file_extension": ".py",
   "mimetype": "text/x-python",
   "name": "python",
   "nbconvert_exporter": "python",
   "pygments_lexer": "ipython3",
   "version": "3.10.6"
  }
 },
 "nbformat": 4,
 "nbformat_minor": 5
}
