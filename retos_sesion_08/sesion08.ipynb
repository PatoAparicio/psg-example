{
 "cells": [
  {
   "cell_type": "markdown",
   "id": "1489f4b3",
   "metadata": {},
   "source": [
    "# SESION 8 ESTRUCTURA DE DATOS\n",
    "## TUPLAS\n",
    "Estructura de datos\n",
    "Una estructura de datos es una forma de organizar y almacenar datos\n",
    "De manera eficiente para su uso y manipulación\n",
    "Las más comunes son tuplas, listas, conjuntos y diccionarios\n",
    "### ¿Qué es una tupla?\n",
    "Una tupla es un par ordenado de elementos que se almacenan juntos (x,y)\n",
    "Una tupla es:\n",
    "- Inmutable: No se puede modificar, agregar o eliminar elementos después de su creación\n",
    "- Ordenada: Los elementos tienen un orden definido y no cambian.\n",
    "- Indexada: Cada elemento tiene un índice asociado a su posición en la tupla para acceder a él"
   ]
  },
  {
   "cell_type": "code",
   "execution_count": 1,
   "id": "3233b671",
   "metadata": {},
   "outputs": [
    {
     "name": "stdout",
     "output_type": "stream",
     "text": [
      "Tupla de enteros\n",
      "(1, 2, 3, 4, 5, 6)\n",
      "<class 'tuple'>\n",
      "Tupla de cadenas\n",
      "('hola', 'mundo', 'desde', 'python')\n",
      "<class 'tuple'>\n",
      "Tupla Mixta\n",
      "(1, 'hola', True, 2.5)\n",
      "<class 'tuple'>\n",
      "Tupla vacia\n",
      "()\n",
      "<class 'tuple'>\n",
      "Tupla de un solo elemento\n",
      "(1,)\n",
      "<class 'tuple'>\n",
      "Tupla utilizando la función tuple()\n",
      "('h', 'o', 'l', 'a')\n",
      "<class 'tuple'>\n"
     ]
    }
   ],
   "source": [
    "print (\"Tupla de enteros\")\n",
    "enteros = (1,2,3,4,5,6)\n",
    "print (enteros)\n",
    "print (type(enteros))\n",
    "print (\"Tupla de cadenas\")\n",
    "cadenas = (\"hola\", \"mundo\", \"desde\", \"python\")\n",
    "print (cadenas)\n",
    "print (type(cadenas))\n",
    "print (\"Tupla Mixta\") \n",
    "mixta = (1, \"hola\", True, 2.5)\n",
    "print (mixta)\n",
    "print (type(mixta))\n",
    "print (\"Tupla vacia\")\n",
    "vacia = ()\n",
    "print (vacia)\n",
    "print (type(vacia))\n",
    "print (\"Tupla de un solo elemento\")\n",
    "uno = (1,)\n",
    "print (uno)\n",
    "print (type(uno))\n",
    "print (\"Tupla utilizando la función tuple()\")\n",
    "constructor = tuple(\"hola\")\n",
    "print (constructor)\n",
    "print (type(constructor))"
   ]
  },
  {
   "cell_type": "markdown",
   "id": "439a54d7",
   "metadata": {},
   "source": [
    "## Indexación y Slicing"
   ]
  },
  {
   "cell_type": "code",
   "execution_count": 2,
   "id": "8ec79363",
   "metadata": {},
   "outputs": [
    {
     "name": "stdout",
     "output_type": "stream",
     "text": [
      "Indexado positivo de una tupla\n",
      "1 <class 'int'>\n",
      "2.0 <class 'float'>\n",
      "hola <class 'str'>\n",
      "True <class 'bool'>\n",
      "Indexado negativo de una tupla\n",
      "True <class 'bool'>\n",
      "hola <class 'str'>\n",
      "2.0 <class 'float'>\n",
      "1 <class 'int'>\n",
      "Slicing de una tupla\n",
      "(0, 1, 2, 3, 4, 5, 6, 7, 8, 9, 10)\n",
      "(0, 1, 2, 3, 4)\n",
      "<class 'tuple'>\n",
      "Slicing de una tupla con saltos\n",
      "(0, 1, 2, 3, 4, 5, 6, 7, 8, 9, 10)\n",
      "(0, 2, 4, 6, 8)\n",
      "<class 'tuple'>\n",
      "Slicing de una tupla con saltos negativos\n",
      "(0, 1, 2, 3, 4, 5, 6, 7, 8, 9, 10)\n",
      "(7, 5, 3)\n",
      "<class 'tuple'>\n"
     ]
    }
   ],
   "source": [
    "print (\"Indexado positivo de una tupla\")\n",
    "tupla = (1,2.0, \"hola\", True)\n",
    "print (tupla[0], type(tupla[0]))\n",
    "print (tupla[1], type(tupla[1]))\n",
    "print (tupla[2], type(tupla[2]))\n",
    "print (tupla[3], type(tupla[3]))\n",
    "print (\"Indexado negativo de una tupla\")\n",
    "tupla = (1,2.0, \"hola\", True)\n",
    "print (tupla[-1], type(tupla[-1]))\n",
    "print (tupla[-2], type(tupla[-2]))\n",
    "print (tupla[-3], type(tupla[-3]))\n",
    "print (tupla[-4], type(tupla[-4]))\n",
    "print (\"Slicing de una tupla\")\n",
    "tupla = (0,1,2,3,4,5,6,7,8,9,10)\n",
    "print (tupla)\n",
    "sub_tupla = tupla[0:5]\n",
    "print (sub_tupla)\n",
    "print (type(sub_tupla))\n",
    "print (\"Slicing de una tupla con saltos\")\n",
    "tupla = (0,1,2,3,4,5,6,7,8,9,10)\n",
    "print (tupla)\n",
    "sub_tupla = tupla[0:10:2]\n",
    "print (sub_tupla)\n",
    "print (type(sub_tupla))\n",
    "print (\"Slicing de una tupla con saltos negativos\")\n",
    "tupla = (0,1,2,3,4,5,6,7,8,9,10)\n",
    "print (tupla)\n",
    "sub_tupla = tupla[7:2:-2]\n",
    "print (sub_tupla)\n",
    "print (type(sub_tupla))"
   ]
  },
  {
   "cell_type": "markdown",
   "id": "570b41fc",
   "metadata": {},
   "source": [
    "### Concatenación de tuplas"
   ]
  },
  {
   "cell_type": "code",
   "execution_count": 3,
   "id": "ea4d8748",
   "metadata": {},
   "outputs": [
    {
     "name": "stdout",
     "output_type": "stream",
     "text": [
      "Concatenación de tuplas\n",
      "(1, 2, 3) (4, 5, 6)\n",
      "(1, 2, 3, 4, 5, 6)\n",
      "<class 'tuple'>\n"
     ]
    }
   ],
   "source": [
    "print (\"Concatenación de tuplas\")\n",
    "tupla1 = (1,2,3)\n",
    "tupla2 = (4,5,6)\n",
    "concatenar = tupla1 + tupla2\n",
    "print (tupla1, tupla2)\n",
    "print (concatenar)\n",
    "print (type(concatenar))"
   ]
  },
  {
   "cell_type": "markdown",
   "id": "1c9e5073",
   "metadata": {},
   "source": [
    "### Repetición de tuplas"
   ]
  },
  {
   "cell_type": "code",
   "execution_count": 4,
   "id": "74526bbc",
   "metadata": {},
   "outputs": [
    {
     "name": "stdout",
     "output_type": "stream",
     "text": [
      "Repetición de tuplas\n",
      "(1, 2, 3)\n",
      "(1, 2, 3, 1, 2, 3, 1, 2, 3)\n",
      "<class 'tuple'>\n"
     ]
    }
   ],
   "source": [
    "print (\"Repetición de tuplas\")\n",
    "tupla = (1,2,3)\n",
    "repetir = tupla * 3\n",
    "print (tupla)\n",
    "print (repetir)\n",
    "print (type(repetir))"
   ]
  },
  {
   "cell_type": "markdown",
   "id": "3e8f0578",
   "metadata": {},
   "source": [
    "### Asignación múltiple de valores\n",
    "Es una forma de asignar el valor a variables variables en una sola línea desempaquetando los valores de una tupla"
   ]
  },
  {
   "cell_type": "code",
   "execution_count": 5,
   "id": "351dd1c9",
   "metadata": {},
   "outputs": [
    {
     "name": "stdout",
     "output_type": "stream",
     "text": [
      "Asignación múltiple\n",
      "('Jhon', 'Doe', 22, 1.75)\n",
      "Jhon\n",
      "Doe\n",
      "22\n",
      "1.75\n"
     ]
    }
   ],
   "source": [
    "print (\"Asignación múltiple\")\n",
    "persona = (\"Jhon\", \"Doe\", 22, 1.75)\n",
    "nombre, apellido, edad, estatura = persona\n",
    "print (persona)\n",
    "print (nombre)\n",
    "print (apellido)\n",
    "print (edad)\n",
    "print (estatura)"
   ]
  },
  {
   "cell_type": "markdown",
   "id": "3a8f4786",
   "metadata": {},
   "source": [
    "### Métodos de las tuplas\n",
    "Solo tienen dos métodos\n",
    "- count()\n",
    "- index()"
   ]
  },
  {
   "cell_type": "code",
   "execution_count": 6,
   "id": "cb677c5c",
   "metadata": {},
   "outputs": [
    {
     "name": "stdout",
     "output_type": "stream",
     "text": [
      "Método index(valor)\n",
      "1\n",
      "2\n",
      "Método count(valor)\n",
      "1\n",
      "2\n",
      "0\n"
     ]
    }
   ],
   "source": [
    "print (\"Método index(valor)\")\n",
    "tupla = (1,2.0, \"hola\", True)\n",
    "print (tupla.index(2.0))\n",
    "print (tupla.index(\"hola\"))\n",
    "print (\"Método count(valor)\")\n",
    "tupla = (1, 2.0, \"hola\", False, \"hola\", \"HOLA\")\n",
    "print (tupla.count(1))\n",
    "print (tupla.count(\"hola\"))\n",
    "print (tupla.count(10))\n"
   ]
  },
  {
   "cell_type": "markdown",
   "id": "349b1b2d",
   "metadata": {},
   "source": [
    "### Funciones con tuplas\n",
    "Las tuplas interactúan con funciones propias de Python estas son las más importantes\n",
    "- len()\n",
    "- max()\n",
    "- min()\n",
    "- sum()\n"
   ]
  },
  {
   "cell_type": "code",
   "execution_count": 7,
   "id": "1770e600",
   "metadata": {},
   "outputs": [
    {
     "name": "stdout",
     "output_type": "stream",
     "text": [
      "Función len()\n",
      "(1, 2.0, 'hola', True)\n",
      "4\n",
      "Función max()\n",
      "(1, 2, 10, 5, 8, 0)\n",
      "10\n",
      "Función min()\n",
      "('a', 'z', 'c', 'b', 'f', 'd')\n",
      "a\n",
      "Función sum()\n",
      "(1.0, 0.5, 2.5, 3.1)\n",
      "7.1\n"
     ]
    }
   ],
   "source": [
    "print (\"Función len()\")\n",
    "tupla = (1,2.0, \"hola\", True)\n",
    "longitud = len(tupla)\n",
    "print (tupla)\n",
    "print (longitud)\n",
    "print (\"Función max()\")\n",
    "tupla = (1,2,10,5,8,0)\n",
    "maximo = max(tupla)\n",
    "print (tupla)\n",
    "print (maximo)\n",
    "print (\"Función min()\")\n",
    "tupla = (\"a\",\"z\",\"c\",\"b\",\"f\",\"d\")\n",
    "minimo = min(tupla)\n",
    "print (tupla)\n",
    "print (minimo)\n",
    "print (\"Función sum()\")\n",
    "tupla = (1.0, 0.5, 2.5, 3.1)\n",
    "suma = sum(tupla)\n",
    "print (tupla)\n",
    "print (suma)\n"
   ]
  },
  {
   "cell_type": "markdown",
   "id": "59fd3ff5",
   "metadata": {},
   "source": [
    "###  Tuplas anidadas\n",
    "Una tupla puede contener otras tuplas como elementos"
   ]
  },
  {
   "cell_type": "code",
   "execution_count": 8,
   "id": "5b9456d1",
   "metadata": {},
   "outputs": [
    {
     "name": "stdout",
     "output_type": "stream",
     "text": [
      "Tuplas anidadas\n",
      "(1, 2, 3, (4, 5, 6))\n",
      "(1, 2, 3, (4, 5, 6)) <class 'tuple'>\n",
      "(4, 5, 6) <class 'tuple'>\n",
      "4 <class 'int'>\n",
      "Tuplas anidadas\n",
      "(1, 2, 3, (4, 5, 6)) <class 'tuple'>\n",
      "(4, 5, 6) <class 'tuple'>\n",
      "4 <class 'int'>\n",
      "5 <class 'int'>\n"
     ]
    }
   ],
   "source": [
    "print (\"Tuplas anidadas\")\n",
    "tupla = (1,2,3, (4,5,6))\n",
    "print (tupla)\n",
    "print (tupla, type(tupla))\n",
    "print (tupla[3], type(tupla[3]))\n",
    "print (tupla[3][0], type(tupla[3][0]))\n",
    "print (\"Tuplas anidadas\")\n",
    "tupla = (1,2,3, (4,5,6))\n",
    "print (tupla, type(tupla))\n",
    "anidado = tupla[3]\n",
    "print (anidado, type(anidado))\n",
    "valor_anidado_0 = anidado[0]\n",
    "print (valor_anidado_0, type(valor_anidado_0))\n",
    "valor_anidado_1 = tupla[3][1]\n",
    "print (valor_anidado_1, type(valor_anidado_1))\n"
   ]
  }
 ],
 "metadata": {
  "kernelspec": {
   "display_name": "Python 3",
   "language": "python",
   "name": "python3"
  },
  "language_info": {
   "codemirror_mode": {
    "name": "ipython",
    "version": 3
   },
   "file_extension": ".py",
   "mimetype": "text/x-python",
   "name": "python",
   "nbconvert_exporter": "python",
   "pygments_lexer": "ipython3",
   "version": "3.13.3"
  }
 },
 "nbformat": 4,
 "nbformat_minor": 5
}
