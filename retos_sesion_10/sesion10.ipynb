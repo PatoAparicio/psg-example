{
 "cells": [
  {
   "cell_type": "markdown",
   "id": "1489f4b3",
   "metadata": {},
   "source": [
    "# SESION 10 ESTRUCTURA DE DATOS\n",
    "## CONJUNTOS\n",
    "Estructura de datos\n",
    "Una estructura de datos es una forma de organizar y almacenar datos\n",
    "De manera eficiente para su uso y manipulación\n",
    "Las más comunes son tuplas, listas, conjuntos y diccionarios\n",
    "### ¿Qué es un conjunto?\n",
    "Un conjunto es una estructura de datos, al igual que una lista o una tupla\n",
    "Al igual que las listas almacena objetos o items que puede ser de a cualquier tipo\n",
    "Se llaman conjuntos porque en matemáticas un conjunto es una colección de elementos únicos sin orden definido\n",
    "Python adopta la misma definición de conjunto de matemáticas\n",
    "Un conjunto es una secuencia de objetos MUTABLES\n",
    "- NO ordenados\n",
    "- NO indexados\n",
    "- NO duplicados\n",
    "\n",
    "### ¿Cómo declarar un conjunto?\n",
    "En python se declara un conjunto utilizando llaves {} y separando los elementos con comas ,\n",
    "\n",
    "mi_conjunto = {elemento1, elemento2, elemento3, ...}\n"
   ]
  },
  {
   "cell_type": "code",
   "execution_count": 52,
   "id": "3233b671",
   "metadata": {},
   "outputs": [
    {
     "name": "stdout",
     "output_type": "stream",
     "text": [
      "Conjunto de enteros\n",
      "{1, 2, 3, 4, 5}\n",
      "<class 'set'>\n",
      "Conjunto de cadenas\n",
      "{'🍔', '🍟', '🌭', '🍕'}\n",
      "<class 'set'>\n",
      "Conjunto mixto\n",
      "{1, 3.14, '☕'}\n",
      "<class 'set'>\n",
      "Conjunto vacío\n",
      "set()\n",
      "<class 'set'>\n",
      "Conjunto a partir de la cadena\n",
      "{'H', 'M', 'o', 'u', 'd', 'n', ' ', 'l', 'a'}\n",
      "<class 'set'>\n",
      "Conjunto a partir de una tupla\n",
      "{1, 2, 3, 4, 5}\n",
      "<class 'set'>\n",
      "Conjunto a partir de una lista\n",
      "{False, True}\n",
      "<class 'set'>\n",
      "Conjunto por comprensión\n",
      "{'🍔', '🍟', '🍕'}\n",
      "<class 'set'>\n"
     ]
    }
   ],
   "source": [
    "print (\"Conjunto de enteros\")\n",
    "conjunto = {1, 2, 3, 4, 5}\n",
    "print(conjunto) \n",
    "print(type(conjunto))\n",
    "print (\"Conjunto de cadenas\")\n",
    "conjunto = {'🍕','🍔','🍟','🌭'}\n",
    "print(conjunto)\n",
    "print(type(conjunto))\n",
    "print (\"Conjunto mixto\")\n",
    "conjunto = {1, True, 3.14, '☕'}\n",
    "print(conjunto)\n",
    "print(type(conjunto))\n",
    "print (\"Conjunto vacío\")\n",
    "conjunto = set()\n",
    "print(conjunto)\n",
    "print(type(conjunto))\n",
    "print (\"Conjunto a partir de la cadena\")\n",
    "cadena = 'Hola Mundo'\n",
    "conjunto = set(cadena)\n",
    "print(conjunto)\n",
    "print(type(conjunto))\n",
    "print (\"Conjunto a partir de una tupla\")\n",
    "tupla = (1, 2, 3, 4, 5, 5)\n",
    "conjunto = set(tupla)\n",
    "print(conjunto)\n",
    "print(type(conjunto))\n",
    "print (\"Conjunto a partir de una lista\")\n",
    "lista = [True, False, 0, 1]\n",
    "conjunto = set(lista)\n",
    "print(conjunto)\n",
    "print(type(conjunto))\n",
    "print (\"Conjunto por comprensión\")\n",
    "conjunto = {x for x in '🍕🍔🍟🍕🍔🍟🍔🍟'}\n",
    "print(conjunto)\n",
    "print(type(conjunto))"
   ]
  },
  {
   "cell_type": "markdown",
   "id": "439a54d7",
   "metadata": {},
   "source": [
    "## Indexación y Slicing\n",
    "Los conjuntos no soportan indexación ni slicing\n",
    "Porque no son ordenados ni indexados"
   ]
  },
  {
   "cell_type": "code",
   "execution_count": 53,
   "id": "8ec79363",
   "metadata": {},
   "outputs": [],
   "source": [
    "conjunto = {1, 2, 3, 4, 5}\n",
    "#print(conjunto[0])\n",
    "conjunto = {1, 2, 3, 4, 5}\n",
    "#print(conjunto[0:3]) "
   ]
  },
  {
   "cell_type": "markdown",
   "id": "570b41fc",
   "metadata": {},
   "source": [
    "### Concatenación de conjuntos"
   ]
  },
  {
   "cell_type": "code",
   "execution_count": 54,
   "id": "ea4d8748",
   "metadata": {},
   "outputs": [],
   "source": [
    "conjunto1 = {1, 2, 3}\n",
    "conjunto2 = {4, 5, 6}\n",
    "#print(conjunto1 + conjunto2)"
   ]
  },
  {
   "cell_type": "markdown",
   "id": "1c9e5073",
   "metadata": {},
   "source": [
    "### Repetición con conjuntos"
   ]
  },
  {
   "cell_type": "code",
   "execution_count": 55,
   "id": "74526bbc",
   "metadata": {},
   "outputs": [],
   "source": [
    "conjunto = {1, 2, 3}\n",
    "#print(conjunto * 3)"
   ]
  },
  {
   "cell_type": "markdown",
   "id": "3a8f4786",
   "metadata": {},
   "source": [
    "### Métodos de los conjuntos\n",
    "Los conjuntos soportan métodos como:\n",
    "- Métodos de adición\n",
    "- Métodos de eliminación\n",
    "- Métodos de operaciones con conjuntos\n",
    "- Métodos de asignación con operaciones\n",
    "- Métodos de búsqueda\n",
    "- Métodos de copia\n",
    "Se utiliza la notación de punto .\n",
    "conjunto.metodo()\n",
    "conjunto.metodo(valor)"
   ]
  },
  {
   "cell_type": "markdown",
   "id": "4080bef4",
   "metadata": {},
   "source": [
    "### Métodos de adición\n",
    "Los métodos de adición permiten agregar elementos a un conjunto\n",
    "- add()\n",
    "- update()\n",
    "No retorna ningún valor"
   ]
  },
  {
   "cell_type": "code",
   "execution_count": 56,
   "id": "cb677c5c",
   "metadata": {},
   "outputs": [
    {
     "name": "stdout",
     "output_type": "stream",
     "text": [
      "Método add()\n",
      "{'🍔', '🍟', '🌭', '🍕'}\n",
      "{'🍕', '🍔', '🍟', '🌭', '🥗'}\n",
      "Método update()\n",
      "{'🍔', '🍟', '🌭', '🍕'}\n",
      "{'🍦', '🥤', '🍕', '🍔', '🍟', '🌭'}\n",
      "{'🍦', '🥤', '🍕', '🍔', '🍟', '🌭', '🍩', '🍪'}\n",
      "{'🍦', '🥤', '🍕', '🍬', '🍔', '🍫', '🍟', '🌭', '🍩', '🍪'}\n",
      "{'🍦', '🥤', '🍕', '🍬', '🍔', '🍫', '🍮', '🍟', '🍭', '🌭', '🍩', '🍪'}\n"
     ]
    }
   ],
   "source": [
    "print (\"Método add()\")\n",
    "conjunto = {'🍕','🍔','🍟','🌭'}\n",
    "print (conjunto)\n",
    "conjunto.add('🥗')\n",
    "print(conjunto) \n",
    "print (\"Método update()\")\n",
    "conjunto = {'🍕','🍔','🍟','🌭'}\n",
    "print (conjunto)\n",
    "conjunto.update(['🥤','🍦'])\n",
    "print(conjunto) \n",
    "conjunto.update('🍩🍪')\n",
    "print(conjunto) \n",
    "conjunto.update(('🍫','🍬'))\n",
    "print(conjunto)\n",
    "conjunto.update({'🍭','🍮'})\n",
    "print(conjunto)"
   ]
  },
  {
   "cell_type": "markdown",
   "id": "b8c6ff80",
   "metadata": {},
   "source": [
    "### Métodos de eliminación\n",
    "Los métodos de eliminación permiten eliminar elementos de un conjunto\n",
    "- remove()\n",
    "- discard()\n",
    "- pop()\n",
    "- clear()\n",
    "Solo pop() retorna el elemento eliminado"
   ]
  },
  {
   "cell_type": "code",
   "execution_count": 57,
   "id": "bb40f1b9",
   "metadata": {},
   "outputs": [
    {
     "name": "stdout",
     "output_type": "stream",
     "text": [
      "Método remove()\n",
      "{'🍔', '🍟', '🌭', '🍕'}\n",
      "{'🍟', '🌭', '🍕'}\n",
      "Método discard()\n",
      "{'🍔', '🍟', '🌭', '🍕'}\n",
      "{'🍟', '🌭', '🍕'}\n",
      "{'🍟', '🌭', '🍕'}\n",
      "Método pop()\n",
      "{'🍔', '🍟', '🌭', '🍦', '🥤', '🍕'}\n",
      "🍔\n",
      "{'🍟', '🌭', '🍦', '🥤', '🍕'}\n",
      "🍟\n",
      "{'🌭', '🍦', '🥤', '🍕'}\n",
      "Método clear()\n",
      "{'🍔', '🍟', '🌭', '🍕'}\n",
      "set()\n"
     ]
    }
   ],
   "source": [
    "print (\"Método remove()\")\n",
    "conjunto = {'🍕','🍔','🍟','🌭'} \n",
    "print (conjunto)\n",
    "conjunto.remove('🍔')\n",
    "print(conjunto)\n",
    "# conjunto.remove('🍔')\n",
    "# print(conjunto)\n",
    "# Key Error: '🍔'\n",
    "print (\"Método discard()\")\n",
    "conjunto = {'🍕','🍔','🍟','🌭'}\n",
    "print (conjunto)\n",
    "conjunto.discard('🍔')\n",
    "print(conjunto)\n",
    "conjunto.discard('🍔')\n",
    "print(conjunto)\n",
    "print (\"Método pop()\")\n",
    "conjunto = {'🍕','🍔','🍟','🌭', '🥤','🍦'}\n",
    "print (conjunto)\n",
    "print(conjunto.pop())\n",
    "print(conjunto)\n",
    "print(conjunto.pop())\n",
    "print(conjunto)\n",
    "print (\"Método clear()\")\n",
    "conjunto = {'🍕','🍔','🍟','🌭'}\n",
    "print (conjunto)\n",
    "conjunto.clear()\n",
    "print(conjunto)"
   ]
  },
  {
   "cell_type": "markdown",
   "id": "2874409a",
   "metadata": {},
   "source": [
    "### Métodos de operaciones con conjuntos\n",
    "- union() : Unión de conjuntos\n",
    "- intersection() : Intersección de conjuntos\n",
    "- difference() : Diferencia de conjuntos\n",
    "- symmetric_difference() : Diferencia simétrica de conjuntos\n",
    "Retornan un nuevo conjunto con el resultado de la operación"
   ]
  },
  {
   "cell_type": "code",
   "execution_count": 58,
   "id": "08a609f2",
   "metadata": {},
   "outputs": [
    {
     "name": "stdout",
     "output_type": "stream",
     "text": [
      "Método union()\n",
      "{'🍔', '🍟', '🥤'} {'🍨', '🥤', '🍕'}\n",
      "{'🍔', '🍟', '🍨', '🥤', '🍕'}\n",
      "Método intersection()\n",
      "{'🍔', '🍟', '🥤'} {'🍨', '🥤', '🍕'}\n",
      "{'🥤'}\n",
      "Método difference()\n",
      "1: {'🍔', '🍟', '🥤'} 2: {'🍨', '🥤', '🍕'}\n",
      "1 y 2: {'🍔', '🍟'}\n",
      "2 y 1: {'🍨', '🍕'}\n",
      "Método symmetric_difference()\n",
      "{'🍔', '🍟', '🥤'} {'🍨', '🥤', '🍕'}\n",
      "{'🍨', '🍕', '🍔', '🍟'}\n"
     ]
    }
   ],
   "source": [
    "print (\"Método union()\")\n",
    "conjunto1 = {'🍔','🍟', '🥤'}\n",
    "conjunto2 = {'🍕','🍨','🥤'}\n",
    "print (conjunto1, conjunto2)\n",
    "union = conjunto1.union(conjunto2)\n",
    "print(union)\n",
    "print (\"Método intersection()\")\n",
    "conjunto1 = {'🍔','🍟', '🥤'}\n",
    "conjunto2 = {'🍕','🍨','🥤'}\n",
    "print (conjunto1, conjunto2)\n",
    "interseccion = conjunto1.intersection(conjunto2)\n",
    "print(interseccion)\n",
    "print (\"Método difference()\")\n",
    "conjunto1 = {'🍔','🍟', '🥤'}\n",
    "conjunto2 = {'🍕','🍨','🥤'}\n",
    "print (\"1:\",conjunto1, \"2:\",conjunto2)\n",
    "diferencia = conjunto1.difference(conjunto2)\n",
    "print(\"1 y 2:\",diferencia)\n",
    "diferencia = conjunto2.difference(conjunto1)\n",
    "print(\"2 y 1:\",diferencia)\n",
    "print (\"Método symmetric_difference()\")\n",
    "conjunto1 = {'🍔','🍟', '🥤'}\n",
    "conjunto2 = {'🍕','🍨','🥤'}\n",
    "print (conjunto1, conjunto2)\n",
    "diferencia_simetrica = conjunto1.symmetric_difference(conjunto2)\n",
    "print(diferencia_simetrica)"
   ]
  },
  {
   "cell_type": "markdown",
   "id": "8e53189a",
   "metadata": {},
   "source": [
    "### Métodos de asignación con operaciones\n",
    "Permiten realizar operaciones con conjuntos y asignar el resultado al conjunto inicial\n",
    "- intersection_update() : Intersección\n",
    "- difference_update() : Diferencia\n",
    "- symmetric_difference_update() : Diferencia simétrica"
   ]
  },
  {
   "cell_type": "code",
   "execution_count": 59,
   "id": "270a12c3",
   "metadata": {},
   "outputs": [
    {
     "name": "stdout",
     "output_type": "stream",
     "text": [
      "Método intersection_update()\n",
      "{'🍔', '🍟', '🥤'} {'🍨', '🥤', '🍕'}\n",
      "{'🥤'}\n",
      "Método difference_update()\n",
      "1: {'🍔', '🍟', '🥤'} 2: {'🍨', '🥤', '🍕'}\n",
      "1: {'🍔', '🍟'} 2: {'🍨', '🥤', '🍕'}\n",
      "Método symmetric_difference_update()\n",
      "{'🍔', '🍟', '🥤'} {'🍨', '🥤', '🍕'}\n",
      "{'🍨', '🍕', '🍔', '🍟'}\n"
     ]
    }
   ],
   "source": [
    "print (\"Método intersection_update()\")\n",
    "conjunto1 = {'🍔','🍟', '🥤'}\n",
    "conjunto2 = {'🍕','🍨','🥤'}\n",
    "print (conjunto1, conjunto2)\n",
    "conjunto1.intersection_update(conjunto2)\n",
    "print(conjunto1)\n",
    "print (\"Método difference_update()\")\n",
    "conjunto1 = {'🍔','🍟', '🥤'}\n",
    "conjunto2 = {'🍕','🍨','🥤'}\n",
    "print (\"1:\",conjunto1, \"2:\",conjunto2)\n",
    "conjunto1.difference_update(conjunto2)\n",
    "print (\"1:\",conjunto1, \"2:\",conjunto2)\n",
    "print (\"Método symmetric_difference_update()\")\n",
    "conjunto1 = {'🍔','🍟', '🥤'}\n",
    "conjunto2 = {'🍕','🍨','🥤'}\n",
    "print (conjunto1, conjunto2)\n",
    "conjunto1.symmetric_difference_update(conjunto2)\n",
    "print(conjunto1)"
   ]
  },
  {
   "cell_type": "markdown",
   "id": "9527d716",
   "metadata": {},
   "source": [
    "### Métodos de búsqueda\n",
    "Los métodos de búsqueda permiten buscar elementos en un conjunto\n",
    "- issubset() : Subconjunto\n",
    "- issuperset() : Superconjunto\n",
    "- isdisjoint() : Disjunto\n",
    "Retornan un valor booleano"
   ]
  },
  {
   "cell_type": "code",
   "execution_count": 60,
   "id": "948bf228",
   "metadata": {},
   "outputs": [
    {
     "name": "stdout",
     "output_type": "stream",
     "text": [
      "Método issubset()\n",
      "{'🍔', '🍟', '🥤'} {'🍨', '🥤', '🍕'} {'🍔', '🍟'}\n",
      "False\n",
      "True\n",
      "Método issuperset()\n",
      "{'🍔', '🍟', '🥤'} {'🍨', '🥤', '🍕'} {'🍔', '🍟'}\n",
      "False\n",
      "True\n",
      "Método isdisjoint()\n",
      "{'🍔', '🍟', '🥤'} {'🍨', '🍕'} {'🍔', '🍟'}\n",
      "True\n",
      "False\n"
     ]
    }
   ],
   "source": [
    "print (\"Método issubset()\")\n",
    "conjunto1 = {'🍔','🍟', '🥤'}\n",
    "conjunto2 = {'🍕','🍨','🥤'}\n",
    "conjunto3 = {'🍔','🍟'}\n",
    "print (conjunto1, conjunto2,conjunto3)\n",
    "# ¿El conjunto1 es subconjunto del conjunto2?\n",
    "print(conjunto1.issubset(conjunto2))\n",
    "# ¿El conjunto3 es subconjunto del conjunto1?\n",
    "print(conjunto3.issubset(conjunto1))\n",
    "print (\"Método issuperset()\")\n",
    "conjunto1 = {'🍔','🍟', '🥤'}\n",
    "conjunto2 = {'🍕','🍨','🥤'}\n",
    "conjunto3 = {'🍔','🍟'}\n",
    "print (conjunto1, conjunto2,conjunto3)\n",
    "# ¿El conjunto1 es superconjunto del conjunto2?\n",
    "print(conjunto1.issuperset(conjunto2)) # C1 contiene a C2?\n",
    "# ¿El conjunto1 es superconjunto del conjunto2?\n",
    "print(conjunto1.issuperset(conjunto3)) # C1 contiene a C3?\n",
    "print (\"Método isdisjoint()\")\n",
    "conjunto1 = {'🍔','🍟', '🥤'}\n",
    "conjunto2 = {'🍕','🍨'}\n",
    "conjunto3 = {'🍔','🍟'}\n",
    "print (conjunto1, conjunto2,conjunto3)\n",
    "# ¿El conjunto1 no tiene elementos en común con el conjunto2?\n",
    "print(conjunto1.isdisjoint(conjunto2))\n",
    "# ¿El conjunto1 no tiene elementos en común con el conjunto3?\n",
    "print(conjunto1.isdisjoint(conjunto3))"
   ]
  },
  {
   "cell_type": "markdown",
   "id": "e32a4f8e",
   "metadata": {},
   "source": [
    "### Métodos de copia\n",
    "Los métodos de copia permiten copiar un conjunto\n",
    "- copy()\n",
    "Retorna un nuevo conjunto con los mismos elementos"
   ]
  },
  {
   "cell_type": "code",
   "execution_count": 61,
   "id": "3298ad10",
   "metadata": {},
   "outputs": [
    {
     "name": "stdout",
     "output_type": "stream",
     "text": [
      "Asignación por referencia\n",
      "{'🍔', '🍟', '🌭', '🍕'}\n",
      "{'🍕', '🍔', '🍟', '🌭', '🥗'}\n",
      "{'🍕', '🍔', '🍟', '🌭', '🥗'}\n",
      "Método copy()\n",
      "{'🍔', '🍟', '🌭', '🍕'}\n",
      "{'🍔', '🍟', '🌭', '🍕'}\n",
      "{'🍕', '🍔', '🍟', '🌭', '🥗'}\n"
     ]
    }
   ],
   "source": [
    "print (\"Asignación por referencia\")\n",
    "conjunto = {'🍕','🍔','🍟','🌭'}\n",
    "print (conjunto)\n",
    "copia = conjunto\n",
    "copia.add('🥗')\n",
    "print(conjunto)\n",
    "print(copia)\n",
    "print (\"Método copy()\")\n",
    "conjunto = {'🍕','🍔','🍟','🌭'}\n",
    "print (conjunto)\n",
    "copia = conjunto.copy()\n",
    "copia.add('🥗')\n",
    "print(conjunto)\n",
    "print(copia)"
   ]
  },
  {
   "cell_type": "markdown",
   "id": "caf6b26f",
   "metadata": {},
   "source": [
    "### Funciones con conjuntos\n",
    "Los conjuntos interactúan con funciones propias de python que permiten secuencias\n",
    "- len()\n",
    "- max()\n",
    "- min()\n",
    "- sum()"
   ]
  },
  {
   "cell_type": "code",
   "execution_count": 62,
   "id": "8e4d3a00",
   "metadata": {},
   "outputs": [
    {
     "name": "stdout",
     "output_type": "stream",
     "text": [
      "Función len()\n",
      "{'🍔', '🍟', '🌭', '🍕'}\n",
      "4\n",
      "Función max()\n",
      "{1, 2, 3, 4, 5}\n",
      "5\n",
      "{'🍔', '🍟', '🌭', '🍕'}\n",
      "🍟\n",
      "Función min()\n",
      "{1, 2, 3, 4, 5}\n",
      "1\n",
      "{'🍔', '🍟', '🍨', '🍕'}\n",
      "🍔\n",
      "Función sum()\n",
      "{1, 2, 3, 4, 5}\n",
      "15\n"
     ]
    }
   ],
   "source": [
    "print (\"Función len()\")\n",
    "conjunto = {'🍕','🍔','🍟','🌭'}\n",
    "print (conjunto)\n",
    "print(len(conjunto))\n",
    "print (\"Función max()\")\n",
    "conjunto = {1, 2, 3, 4, 5}\n",
    "print (conjunto)\n",
    "print (max(conjunto))\n",
    "conjunto = {'🍕','🍔','🍟','🌭'}\n",
    "print (conjunto)\n",
    "print(max(conjunto))\n",
    "print (\"Función min()\")\n",
    "conjunto = {1, 2, 3, 4, 5}\n",
    "print (conjunto)\n",
    "print (min(conjunto))\n",
    "conjunto = {'🍨','🍔','🍟','🍕'}\n",
    "print (conjunto)\n",
    "print(min(conjunto))\n",
    "print (\"Función sum()\")\n",
    "conjunto = {1, 2, 3, 4, 5}\n",
    "print (conjunto)\n",
    "print (sum(conjunto))"
   ]
  },
  {
   "cell_type": "markdown",
   "id": "7d9c608e",
   "metadata": {},
   "source": [
    "### Operadores con conjuntos\n",
    "Los conjuntos soportan operadores que permiten realizar operaciones\n",
    "- Operadores de adición\n",
    "- Operadores de comparación\n",
    "- Operadores para operaciones con conjuntos\n",
    "- Operadores para asignación con operaciones"
   ]
  },
  {
   "cell_type": "markdown",
   "id": "5c36f710",
   "metadata": {},
   "source": [
    "### Operadores de adición\n",
    "Los operadores de adición permiten agregar elementos a un conjunto\n",
    "Similar al método add()\n",
    "- |= : Update"
   ]
  },
  {
   "cell_type": "code",
   "execution_count": 63,
   "id": "01d393a4",
   "metadata": {},
   "outputs": [
    {
     "name": "stdout",
     "output_type": "stream",
     "text": [
      "Operador |=\n",
      "{'🍔', '🍟', '🥤'} {'🍨', '🍕'}\n",
      "{'🍔', '🍟', '🍨', '🥤', '🍕'}\n"
     ]
    }
   ],
   "source": [
    "print (\"Operador |=\")\n",
    "conjunto1 = {'🍔','🍟', '🥤'}\n",
    "conjunto2 = {'🍕','🍨'}\n",
    "print (conjunto1, conjunto2)\n",
    "conjunto1 |= conjunto2\n",
    "print(conjunto1)"
   ]
  },
  {
   "cell_type": "markdown",
   "id": "a33cd0b2",
   "metadata": {},
   "source": [
    "### Operadores de comparación\n",
    "Los operadores de comparación permiten comparar conjuntos\n",
    "- == : Igualdad\n",
    "- != : Desigualdad\n",
    "- < : Es subconjunto y no igual\n",
    "- > : Es superconjunto y no igual\n",
    "- <= : Es subconjunto o igual\n",
    "- >= : Es superconjunto o igual"
   ]
  },
  {
   "cell_type": "code",
   "execution_count": 64,
   "id": "b7d58543",
   "metadata": {},
   "outputs": [
    {
     "name": "stdout",
     "output_type": "stream",
     "text": [
      "Operador ==\n",
      "{'🍔', '🍟', '🥤'} {'🍔', '🍟', '🥤'} {'🍨', '🍕'}\n",
      "True\n",
      "False\n",
      "Operador !=\n",
      "{'🍔', '🍟', '🥤'} {'🍔', '🍟', '🥤'} {'🍨', '🍕'}\n",
      "False\n",
      "True\n",
      "Operador <\n",
      "{'🍔', '🍟'} {'🍔', '🍟', '🥤'} {'🍨', '🍕'}\n",
      "True\n",
      "False\n",
      "Operador >\n",
      "{'🍔', '🍟', '🥤', '🍕'} {'🍔', '🍟', '🥤'} {'🍨', '🍕'}\n",
      "True\n",
      "False\n",
      "Operador <=\n",
      "{'🍔', '🍟'} {'🍔', '🍟'} {'🍨', '🍕'}\n",
      "True\n",
      "False\n",
      "Operador >=\n",
      "{'🍔', '🍟'} {'🍔', '🍟'} {'🍨', '🍕'}\n",
      "True\n",
      "False\n"
     ]
    }
   ],
   "source": [
    "print (\"Operador ==\")\n",
    "conjunto1 = {'🍔','🍟', '🥤'}\n",
    "conjunto2 = {'🍔','🍟', '🥤'}\n",
    "conjunto3 = {'🍕','🍨'}\n",
    "print (conjunto1, conjunto2, conjunto3)\n",
    "print(conjunto1 == conjunto2)\n",
    "print(conjunto1 == conjunto3)\n",
    "print (\"Operador !=\")\n",
    "conjunto1 = {'🍔','🍟', '🥤'}\n",
    "conjunto2 = {'🍔','🍟', '🥤'}\n",
    "conjunto3 = {'🍕','🍨'}\n",
    "print (conjunto1, conjunto2, conjunto3)\n",
    "print(conjunto1 != conjunto2)\n",
    "print(conjunto1 != conjunto3)\n",
    "print (\"Operador <\")\n",
    "conjunto1 = {'🍔','🍟'}\n",
    "conjunto2 = {'🍔','🍟', '🥤'}\n",
    "conjunto3 = {'🍕','🍨'}\n",
    "print (conjunto1, conjunto2, conjunto3)\n",
    "print(conjunto1 < conjunto2)\n",
    "print(conjunto1 < conjunto3)\n",
    "print (\"Operador >\")\n",
    "conjunto1 = {'🍔','🍟','🥤','🍕'}\n",
    "conjunto2 = {'🍔','🍟', '🥤'}\n",
    "conjunto3 = {'🍕','🍨'}\n",
    "print (conjunto1, conjunto2, conjunto3)\n",
    "print(conjunto1 > conjunto2)\n",
    "print(conjunto1 > conjunto3)\n",
    "print (\"Operador <=\")\n",
    "conjunto1 = {'🍔','🍟'}\n",
    "conjunto2 = {'🍔','🍟'}\n",
    "conjunto3 = {'🍕','🍨'}\n",
    "print (conjunto1, conjunto2, conjunto3)\n",
    "print(conjunto1 <= conjunto2)\n",
    "print(conjunto1 <= conjunto3)\n",
    "print (\"Operador >=\")\n",
    "conjunto1 = {'🍔','🍟'}\n",
    "conjunto2 = {'🍔','🍟'}\n",
    "conjunto3 = {'🍕','🍨'}\n",
    "print (conjunto1, conjunto2, conjunto3)\n",
    "print(conjunto1 >= conjunto2)\n",
    "print(conjunto1 >= conjunto3)"
   ]
  },
  {
   "cell_type": "markdown",
   "id": "edf86462",
   "metadata": {},
   "source": [
    "### Operadores para operaciones con conjuntos\n",
    "Los operadores para operaciones con conjuntos permiten realizar operaciones con conjuntos\n",
    "- | : Unión\n",
    "- & : Intersección\n",
    "-  -: Diferencia\n",
    "- ^ : Diferencia simétrica"
   ]
  },
  {
   "cell_type": "code",
   "execution_count": 65,
   "id": "136e9744",
   "metadata": {},
   "outputs": [
    {
     "name": "stdout",
     "output_type": "stream",
     "text": [
      "Operador |\n",
      "{'🍔', '🍟', '🥤'} {'🍨', '🥤', '🍕'}\n",
      "{'🍔', '🍟', '🍨', '🥤', '🍕'}\n",
      "Operador &\n",
      "{'🍔', '🍟', '🥤'} {'🍨', '🥤', '🍕'}\n",
      "{'🥤'}\n",
      "Operador -\n",
      "1: {'🍔', '🍟', '🥤'} 2: {'🍨', '🥤', '🍕'}\n",
      "1 - 2: {'🍔', '🍟'}\n",
      "2 - 1: {'🍨', '🍕'}\n",
      "Operador ^\n",
      "{'🍔', '🍟', '🥤'} {'🍨', '🥤', '🍕'}\n",
      "{'🍨', '🍕', '🍔', '🍟'}\n"
     ]
    }
   ],
   "source": [
    "print (\"Operador |\")\n",
    "conjunto1 = {'🍔','🍟', '🥤'}\n",
    "conjunto2 = {'🍕','🍨','🥤'}\n",
    "print (conjunto1, conjunto2)\n",
    "union = conjunto1 | conjunto2\n",
    "print(union)\n",
    "print (\"Operador &\")\n",
    "conjunto1 = {'🍔','🍟', '🥤'}\n",
    "conjunto2 = {'🍕','🍨','🥤'}\n",
    "print (conjunto1, conjunto2)\n",
    "interseccion = conjunto1 & conjunto2\n",
    "print(interseccion)\n",
    "print (\"Operador -\")\n",
    "conjunto1 = {'🍔','🍟', '🥤'}\n",
    "conjunto2 = {'🍕','🍨','🥤'}\n",
    "print (\"1:\",conjunto1, \"2:\",conjunto2)\n",
    "diferencia = conjunto1 - conjunto2\n",
    "print(\"1 - 2:\",diferencia)\n",
    "diferencia = conjunto2 - conjunto1\n",
    "print(\"2 - 1:\",diferencia)\n",
    "print (\"Operador ^\")\n",
    "conjunto1 = {'🍔','🍟', '🥤'}\n",
    "conjunto2 = {'🍕','🍨','🥤'}\n",
    "print (conjunto1, conjunto2)\n",
    "diferencia_simetrica = conjunto1 ^ conjunto2\n",
    "print(diferencia_simetrica)"
   ]
  },
  {
   "cell_type": "markdown",
   "id": "674168d3",
   "metadata": {},
   "source": [
    "### Operadores para asignación con operaciones\n",
    "Los operadores para asignación con operaciones permiten realizar operaciones con conjuntos y asignar el resultado al conjunto inicial\n",
    "- |= : Unión\n",
    "- &= : Intersección\n",
    "- -= : Diferencia\n",
    "- ^= : Diferencia simétrica"
   ]
  },
  {
   "cell_type": "code",
   "execution_count": 66,
   "id": "5c20a043",
   "metadata": {},
   "outputs": [
    {
     "name": "stdout",
     "output_type": "stream",
     "text": [
      "Operador |= Unión\n",
      "{'🍔', '🍟', '🥤'} {'🍨', '🥤', '🍕'}\n",
      "{'🍔', '🍟', '🍨', '🥤', '🍕'}\n",
      "Operador &= Intersección\n",
      "{'🍔', '🍟', '🥤'} {'🍨', '🥤', '🍕'}\n",
      "{'🥤'}\n",
      "Operador -= Diferencia\n",
      "1: {'🍔', '🍟', '🥤'} 2: {'🍨', '🥤', '🍕'}\n",
      "1 - 2: {'🍔', '🍟'}\n",
      "2 - 1: {'🍨', '🍕'}\n",
      "Operador ^= Diferencia simétrica\n",
      "{'🍔', '🍟', '🥤'} {'🍨', '🥤', '🍕'}\n",
      "{'🍨', '🍕', '🍔', '🍟'}\n"
     ]
    }
   ],
   "source": [
    "print (\"Operador |= Unión\")\n",
    "conjunto1 = {'🍔','🍟', '🥤'}\n",
    "conjunto2 = {'🍕','🍨','🥤'}\n",
    "print (conjunto1, conjunto2)\n",
    "conjunto1 |= conjunto2\n",
    "print(conjunto1)\n",
    "print (\"Operador &= Intersección\")\n",
    "conjunto1 = {'🍔','🍟', '🥤'}\n",
    "conjunto2 = {'🍕','🍨','🥤'}\n",
    "print (conjunto1, conjunto2)\n",
    "conjunto1 &= conjunto2\n",
    "print(conjunto1)\n",
    "print (\"Operador -= Diferencia\")\n",
    "conjunto1 = {'🍔','🍟', '🥤'}\n",
    "conjunto2 = {'🍕','🍨','🥤'}\n",
    "print (\"1:\",conjunto1, \"2:\",conjunto2)\n",
    "conjunto1 -= conjunto2\n",
    "print(\"1 - 2:\",conjunto1)\n",
    "conjunto1 = {'🍔','🍟', '🥤'}\n",
    "conjunto2 -= conjunto1\n",
    "print(\"2 - 1:\",conjunto2)\n",
    "print (\"Operador ^= Diferencia simétrica\")\n",
    "conjunto1 = {'🍔','🍟', '🥤'}\n",
    "conjunto2 = {'🍕','🍨','🥤'}\n",
    "print (conjunto1, conjunto2)\n",
    "conjunto1 ^= conjunto2\n",
    "print(conjunto1)"
   ]
  },
  {
   "cell_type": "markdown",
   "id": "20d67c4b",
   "metadata": {},
   "source": [
    "### Conjuntos inmutables\n",
    "Los conjuntos inmutables son conjuntos que no pueden ser modificados después de su creación\n",
    "En python se declaran utilizando la función frozenset()"
   ]
  },
  {
   "cell_type": "code",
   "execution_count": 67,
   "id": "9efbf2d0",
   "metadata": {},
   "outputs": [
    {
     "name": "stdout",
     "output_type": "stream",
     "text": [
      "frozenset({'🍔', '🍟', '🌭', '🥗', '🍕'})\n",
      "<class 'frozenset'>\n",
      "frozenset({1, 2, 3, 4, 5})\n"
     ]
    }
   ],
   "source": [
    "conjunto = frozenset({'🍔','🍕','🥗','🍟','🌭'})\n",
    "print(conjunto)\n",
    "print(type(conjunto))\n",
    "conjunto = frozenset({1, 2, 3, 4, 5})\n",
    "print(conjunto)\n",
    "#print(conjunto.add(6)) # AttributeError: 'frozenset' object has no attribute 'add'\n",
    "#print(conjunto.remove(1)) # AttributeError: 'frozenset' object has no attribute 'remove'\n",
    "#print(conjunto |= {6}) # SyntaxError: invalid syntax"
   ]
  },
  {
   "cell_type": "markdown",
   "id": "888daa36",
   "metadata": {},
   "source": [
    "### Conjuntos anidados\n",
    "Los conjuntos anidados son conjuntos que contienen otros conjuntos pero tienen que ser inmutables para ser anidados"
   ]
  },
  {
   "cell_type": "code",
   "execution_count": 68,
   "id": "fa9d02c1",
   "metadata": {},
   "outputs": [
    {
     "name": "stdout",
     "output_type": "stream",
     "text": [
      "Conjunto de conjuntos\n",
      "{frozenset({'🍏', '🍈', '🍐'}), frozenset({'🍓', '🍅', '🍎'})}\n",
      "<class 'set'>\n"
     ]
    }
   ],
   "source": [
    "print (\"Conjunto de conjuntos\")\n",
    "conjunto = {frozenset({'🍅','🍓','🍎'}), frozenset({'🍈','🍐','🍏'})}\n",
    "print(conjunto)\n",
    "print(type(conjunto))"
   ]
  }
 ],
 "metadata": {
  "kernelspec": {
   "display_name": "Python 3",
   "language": "python",
   "name": "python3"
  },
  "language_info": {
   "codemirror_mode": {
    "name": "ipython",
    "version": 3
   },
   "file_extension": ".py",
   "mimetype": "text/x-python",
   "name": "python",
   "nbconvert_exporter": "python",
   "pygments_lexer": "ipython3",
   "version": "3.13.3"
  }
 },
 "nbformat": 4,
 "nbformat_minor": 5
}
