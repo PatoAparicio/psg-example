{
 "cells": [
  {
   "cell_type": "markdown",
   "id": "5bdc2a1d",
   "metadata": {},
   "source": [
    "# 🎲 Rescatando Animales\n",
    "\n",
    "¡Bienvenidos al emocionante juego de *Rescatando Animales*! En este juego recorrerás un tablero con el objetivo de rescatar a la mayor cantidad de perros y gatos antes de llegar a la meta."
   ]
  },
  {
   "cell_type": "markdown",
   "id": "7c9e1158",
   "metadata": {},
   "source": [
    "## 📜 Reglas del juego\n",
    "\n",
    "1. Cada jugador tiene una ficha principal llamada ficha persona.\n",
    "2. El tablero está compuesto por casillas dispuestas alrededor del borde.\n",
    "3. Algunas casillas tienen fichas de animales, ficha perro 🐶 y ficha gato 🐱 que pueden ser rescatados.\n",
    "4. Para moverse, se lanza un dado y avanza la cantidad de casillas correspondiente.\n",
    "5. Si una ficha persona cae en una casilla con una ficha animal, ¡lo rescata!\n",
    "6. Al llegar a la meta, el jugador que más animales rescatados gana."
   ]
  },
  {
   "cell_type": "code",
   "execution_count": null,
   "id": "dd4c68bd",
   "metadata": {},
   "outputs": [
    {
     "name": "stdout",
     "output_type": "stream",
     "text": [
      " --------------------------------\n",
      "| 🐶👣👣🐱👣👣👣🐶👣👣🐱👣 |\n",
      "| 👣 🐱👣👣🐱👣🐶👣👣👣👣🐶|\n",
      "| 👣 👣                         |\n",
      "| 🐱 👣👣🐶👣👣🐱👣👣        |\n",
      "| 👣   🐱👣👣🐶👣🐱👣        |\n",
      "| 👣   👣                       |\n",
      "| 👣   👣🐶👣🐱👣🐶👣🐱👣👣 |\n",
      " -⭐--------------------------🎯 \n",
      "  Inicio                     Meta \n"
     ]
    }
   ],
   "source": [
    "print(\" --------------------------------\" )\n",
    "print(\"| 🐶👣👣🐱👣👣👣🐶👣👣🐱👣 |\")\n",
    "print(\"| 👣 🐱👣👣🐱👣🐶👣👣👣👣🐶|\")\n",
    "print(\"| 👣 👣                         |\")\n",
    "print(\"| 🐱 👣👣🐶👣👣🐱👣👣👣👣   |\")\n",
    "print(\"| 👣   🐱👣👣🐶👣🐱👣👣👣   |\")\n",
    "print(\"| 👣   👣                       |\")\n",
    "print(\"| 👣   👣🐶👣🐱👣🐶👣🐱👣👣 |\")\n",
    "print(\" -⭐--------------------------🎯 \")\n",
    "print(\"  Inicio                     Meta \")\n"
   ]
  },
  {
   "cell_type": "markdown",
   "id": "1d09d104",
   "metadata": {},
   "source": [
    "## 🧍‍♀️ Piezas del juego\n",
    "\n",
    "- 👩 Ficha persona: ficha del jugador 1 o 2.\n",
    "- 👨 Ficha persona: ficha del jugador 1 o 2.\n",
    "- 🐶 Ficha perro: animal para rescatar.\n",
    "- 🐱 Ficha gato: animal para rescatar.\n",
    "\n",
    "Cada jugador utiliza una ficha persona para moverse en el tablero y rescatar tantos animales como pueda antes de llegar a la meta."
   ]
  },
  {
   "cell_type": "code",
   "execution_count": null,
   "id": "c59ca11b",
   "metadata": {},
   "outputs": [
    {
     "name": "stdout",
     "output_type": "stream",
     "text": [
      "  o\n",
      "-- --\n",
      " /\\ \n",
      " ||\n",
      "  o\n",
      "-- --\n",
      " == \n",
      " ||\n",
      "  (o)_(o)\n",
      "  ( *-* )\n",
      "C(,,)(,,)\n",
      "    /\\_/\\ \n",
      "  =(=*o*=)=\n",
      " C_(,,)(,,) \n"
     ]
    }
   ],
   "source": [
    "# Ficha persona 1\n",
    "print(\"  o\")\n",
    "print(\"-- --\")\n",
    "print(\" /\\ \")\n",
    "print(\" ||\")\n",
    "\n",
    "# Ficha persona 2\n",
    "print(\"  o\")\n",
    "print(\"-- --\")\n",
    "print(\" == \")\n",
    "print(\" ||\")\n",
    "\n",
    "# Ficha perro\n",
    "print(\"  (o)_(o)\")\n",
    "print(\"  ( *-* )\")\n",
    "print(\"C_(,,)(,,)\")\n",
    "\n",
    "# Ficha gato\n",
    "print(\"    /\\_/\\ \")\n",
    "print(\"  =(=*o*=)=\")\n",
    "print(\" C_(,,)(,,) \")"
   ]
  },
  {
   "cell_type": "code",
   "execution_count": null,
   "id": "13b19368",
   "metadata": {},
   "outputs": [],
   "source": []
  }
 ],
 "metadata": {
  "kernelspec": {
   "display_name": "Python 3",
   "language": "python",
   "name": "python3"
  },
  "language_info": {
   "codemirror_mode": {
    "name": "ipython",
    "version": 3
   },
   "file_extension": ".py",
   "mimetype": "text/x-python",
   "name": "python",
   "nbconvert_exporter": "python",
   "pygments_lexer": "ipython3",
   "version": "3.10.6"
  }
 },
 "nbformat": 4,
 "nbformat_minor": 5
}
