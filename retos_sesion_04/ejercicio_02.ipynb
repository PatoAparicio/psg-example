{
 "cells": [
  {
   "cell_type": "markdown",
   "id": "c8b6ba82",
   "metadata": {},
   "source": [
    "# Ejercicio 02\n",
    "crear una imagen de un gatito utilizando caracteres y símbolos especiales como `*`, `()`, `\\`, `|`, `/`, `o`, `\"`, `'`, `=` y `C`. Utilizaremos estos símbolos para formar la representación del gatito a través de impresiones en consola.\n",
    "\n",
    "A continuación se muestra el código para generar la imagen:"
   ]
  },
  {
   "cell_type": "code",
   "execution_count": null,
   "id": "1620092c",
   "metadata": {},
   "outputs": [
    {
     "ename": "SyntaxError",
     "evalue": "unterminated string literal (detected at line 1) (3848877953.py, line 1)",
     "output_type": "error",
     "traceback": [
      "\u001b[1;36m  Cell \u001b[1;32mIn[1], line 1\u001b[1;36m\u001b[0m\n\u001b[1;33m    print(\"   /\\__/\\\")\u001b[0m\n\u001b[1;37m          ^\u001b[0m\n\u001b[1;31mSyntaxError\u001b[0m\u001b[1;31m:\u001b[0m unterminated string literal (detected at line 1)\n"
     ]
    }
   ],
   "source": [
    "print(\"   /\\__/\\ \")\n",
    "print(\"  (==*o*==)\")\n",
    "print(\" C(,,)(,,) \")"
   ]
  }
 ],
 "metadata": {
  "kernelspec": {
   "display_name": "Python 3",
   "language": "python",
   "name": "python3"
  },
  "language_info": {
   "codemirror_mode": {
    "name": "ipython",
    "version": 3
   },
   "file_extension": ".py",
   "mimetype": "text/x-python",
   "name": "python",
   "nbconvert_exporter": "python",
   "pygments_lexer": "ipython3",
   "version": "3.10.6"
  }
 },
 "nbformat": 4,
 "nbformat_minor": 5
}
