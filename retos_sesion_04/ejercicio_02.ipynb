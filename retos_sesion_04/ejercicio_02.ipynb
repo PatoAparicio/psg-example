{
 "cells": [
  {
   "cell_type": "markdown",
   "id": "c8b6ba82",
   "metadata": {},
   "source": [
    "# Ejercicio 02\n",
    "crear la imagen de un gato utilizando caracteres y símbolos especiales como `*`, `()`, `\\`, `|`, `/`, `o`, `\"`, `'`, `=` y `C`.\n",
    "A continuación se muestra la imagen generada:"
   ]
  },
  {
   "cell_type": "code",
   "execution_count": 6,
   "id": "1620092c",
   "metadata": {},
   "outputs": [
    {
     "name": "stdout",
     "output_type": "stream",
     "text": [
      "    /\\_/\\ \n",
      "  =(=*o*=)=\n",
      " C_(,,)(,,) \n"
     ]
    }
   ],
   "source": [
    "print(\"    /\\_/\\ \")\n",
    "print(\"  =(=*o*=)=\")\n",
    "print(\" C_(,,)(,,) \")"
   ]
  }
 ],
 "metadata": {
  "kernelspec": {
   "display_name": "Python 3",
   "language": "python",
   "name": "python3"
  },
  "language_info": {
   "codemirror_mode": {
    "name": "ipython",
    "version": 3
   },
   "file_extension": ".py",
   "mimetype": "text/x-python",
   "name": "python",
   "nbconvert_exporter": "python",
   "pygments_lexer": "ipython3",
   "version": "3.10.6"
  }
 },
 "nbformat": 4,
 "nbformat_minor": 5
}
