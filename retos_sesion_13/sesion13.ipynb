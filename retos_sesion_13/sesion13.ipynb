{
 "cells": [
  {
   "cell_type": "markdown",
   "id": "1489f4b3",
   "metadata": {},
   "source": [
    "# Sesión 13 Estructura de control de flujo\n",
    "## Sentencias iterativas\n",
    "### Estructura de control\n",
    "En un programa las estructuras de control son el orden en el que se ejecutan las instrucciones\n",
    "Python soporta las siguientes estructuras de control\n",
    "- Secuencial o lineal\n",
    "- Selección o condicionales\n",
    "- Repetición o ciclos\n",
    "### Secuencial o lineal\n",
    "Es la ejecución de las instrucciones en el orden en el que se escriben\n",
    "### Repetición o ciclos\n",
    "Los ciclos son estructuras de control que permiten ejecutar un bloque de código varias veces de manera consecutiva\n",
    "Permite a los programas ejecutar una secuencia de instrucciones varias veces\n",
    "En Python existen dos tipos de ciclos\n",
    "- Ciclo for\n",
    "- Ciclo while\n"
   ]
  },
  {
   "cell_type": "markdown",
   "id": "59dd062b",
   "metadata": {},
   "source": [
    "## For\n",
    "El ciclo for es un ciclo que se ejecuta un número determinado de veces\n",
    "En el caso de los for se recorre una secuencia de elementos\n",
    "Se puede recorrer un rango de números\n",
    "o listas, tuplas, diccionarios, etc."
   ]
  },
  {
   "cell_type": "code",
   "execution_count": 1,
   "id": "3233b671",
   "metadata": {},
   "outputs": [
    {
     "name": "stdout",
     "output_type": "stream",
     "text": [
      "[0, 1, 2, 3, 4]\n",
      "0\n",
      "1\n",
      "2\n",
      "3\n",
      "4\n",
      "4\n",
      "Inicio\n",
      "0\n",
      "1\n",
      "2\n",
      "3\n",
      "4\n",
      "Fin\n",
      "Ejemplo 1\n",
      "25\n",
      "Ejemplo 2\n",
      "     *\n",
      "    ***\n",
      "   *****\n",
      "  *******\n",
      " *********\n",
      "***********\n",
      "Ejemplo 3\n",
      "1 4 9 16 25 36 49 64 81 100 Ejemplo 4\n",
      "[0, 2, 4, 6, 8, 10]\n"
     ]
    }
   ],
   "source": [
    "range(5)\n",
    "range(1, 10, 2)\n",
    "range(10, 0, -1)\n",
    "print(list(range(5)))\n",
    "for i in range(5):\n",
    "    print(i)\n",
    "print(i)\n",
    "print (\"Inicio\")\n",
    "for i in range(5): # rango (0,5,1)\n",
    "    print(i)\n",
    "print (\"Fin\")\n",
    "\n",
    "#Ejemplo 1, sumar los números del 1 al 10 de 2 en 2\n",
    "print (\"Ejemplo 1\")\n",
    "suma = 0\n",
    "for i in range(1, 11, 2): # 1, 3, 5, 7, 9\n",
    "    suma = suma + i #suma += i\n",
    "print(suma)\n",
    "\n",
    "#Ejemplo 2, crear un árbol de navidad de 6 niveles\n",
    "print (\"Ejemplo 2\")\n",
    "for i in range(0, 6):\n",
    "    print(\" \"*(5-i) + \"*\"*i*2+\"*\")\n",
    "\n",
    "#Ejemplo 3, crear una serie de números cuadrados del 1 al 10\n",
    "print (\"Ejemplo 3\")\n",
    "for i in range(1, 11):\n",
    "    print(i**2, end=\" \")\n",
    "\n",
    "#Ejemplo 4, crear una lista de números pares del 1 al 10\n",
    "print (\"Ejemplo 4\")\n",
    "pares = []\n",
    "for i in range(0, 11, 2):\n",
    "    pares.append(i)\n",
    "print(pares)"
   ]
  },
  {
   "cell_type": "code",
   "execution_count": null,
   "id": "1bc3b5b7",
   "metadata": {},
   "outputs": [],
   "source": []
  },
  {
   "cell_type": "code",
   "execution_count": 2,
   "id": "8ec79363",
   "metadata": {},
   "outputs": [
    {
     "name": "stdout",
     "output_type": "stream",
     "text": [
      "Ejercicio 1\n",
      "1 8 27 64 125 216 343 512 729 1000 "
     ]
    }
   ],
   "source": [
    "#Ejercicio 1\n",
    "print (\"Ejercicio 1\")\n",
    "for i in range(1, 11):\n",
    "    print(i**3, end=\" \")"
   ]
  },
  {
   "cell_type": "markdown",
   "id": "570b41fc",
   "metadata": {},
   "source": [
    "### Como se declara un for con secuencias\n",
    "La estructura de control for también puede iterar sobre secuencias\n",
    "- Listas\n",
    "- Tuplas\n",
    "- Diccionarios\n",
    "- Cadenas de texto\n",
    "\n",
    "for variable in secuencia:\n",
    "    print(variable)"
   ]
  },
  {
   "cell_type": "code",
   "execution_count": 3,
   "id": "ea4d8748",
   "metadata": {},
   "outputs": [
    {
     "name": "stdout",
     "output_type": "stream",
     "text": [
      "🍎\n",
      "🍌\n",
      "🍇\n",
      "🍉\n",
      "Ejemplo 5\n",
      "🎄\n",
      "🎆\n",
      "🎁\n",
      "🎊\n",
      "✨\n",
      "🧨\n",
      "Ejemplo 6\n",
      "🍅, 🍇, 🍈, 🍉, 🍊, Ejemplo 7\n",
      "🍅 Tomate\n",
      "🍇 Uva\n",
      "🍈 Melón\n",
      "🍉 Sandía\n",
      "🍊 Naranja\n",
      "Ejemplo 8\n",
      "🥚->🐣->🐥->🐤->🐔->🍗->Ejemplo 9\n",
      "🐶\n",
      "🐱\n",
      "🐰\n",
      "🐭\n",
      "Ejemplo 10\n",
      "🐶\n",
      "🐱\n",
      "🐰\n",
      "🐭\n",
      "Ejemplo 11\n",
      "0 🐶 🐶\n",
      "1 🐱 🐱\n",
      "2 🐰 🐰\n",
      "3 🐭 🐭\n"
     ]
    }
   ],
   "source": [
    "for fruta in ['🍎','🍌','🍇','🍉']:\n",
    "    print(fruta)\n",
    "\n",
    "#Ejemplo 5, imprimir los elementos de una lista fiestas\n",
    "print (\"Ejemplo 5\")\n",
    "fiesta = ['🎄','🎆','🎁','🎊','✨','🧨']\n",
    "for objeto in fiesta:\n",
    "    print(objeto)\n",
    "\n",
    "#Ejemplo 6, imprimir los elementos de una tupla de frutas separados por coma\n",
    "print (\"Ejemplo 6\")\n",
    "frutas =  ('🍅','🍇','🍈','🍉','🍊')\n",
    "for fruta in frutas:\n",
    "    print(fruta, end=\", \")\n",
    "\n",
    "#Ejemplo 7, imprimir los elementos de un diccionario\n",
    "print (\"Ejemplo 7\")\n",
    "frutas = {'🍅':'Tomate','🍇':'Uva','🍈':'Melón','🍉':'Sandía','🍊':'Naranja'}\n",
    "for clave in frutas:\n",
    "    print(clave, frutas[clave])\n",
    "\n",
    "#Ejemplo 8, imprimir los elementos del ciclo de vida de un pollo con flechas\n",
    "print (\"Ejemplo 8\")\n",
    "ciclo_vida = '🥚🐣🐥🐤🐔🍗'\n",
    "for etapa in ciclo_vida:\n",
    "    print(etapa, end=\"->\")\n",
    "\n",
    "#Ejemplo 9, Listar los elementos de la siguiente serie ['🐶','🐱','🐰','🐭']\n",
    "print (\"Ejemplo 9\")\n",
    "animales = ['🐶','🐱','🐰','🐭']\n",
    "for animal in animales:\n",
    "    print(animal)\n",
    "\n",
    "#Ejemplo 10, Listar los elementos de la siguiente serie ['🐶','🐱','🐰','🐭']\n",
    "print (\"Ejemplo 10\")\n",
    "animales = ['🐶','🐱','🐰','🐭']\n",
    "for i in range(len(animales)):\n",
    "    print(animales[i])\n",
    "\n",
    "#Ejemplo 11, Listar los elementos de la siguiente serie ['🐶','🐱','🐰','🐭']\n",
    "print (\"Ejemplo 11\")\n",
    "animales = ['🐶','🐱','🐰','🐭']\n",
    "for i, animal in enumerate(animales):\n",
    "    print(i, animal, animales[i])"
   ]
  },
  {
   "cell_type": "code",
   "execution_count": 4,
   "id": "2e992e14",
   "metadata": {},
   "outputs": [
    {
     "name": "stdout",
     "output_type": "stream",
     "text": [
      "Ejercicio 2\n",
      "⚽\n",
      "🏀🏀\n",
      "🏐🏐🏐\n",
      "🎱🎱🎱🎱\n"
     ]
    }
   ],
   "source": [
    "#Ejercicio 2, imprimir la cantidad de veces los elementos de la cadena '⚽🏀🏐🎱' de acuerdo a su posición más 1\n",
    "print (\"Ejercicio 2\")\n",
    "esferas = '⚽🏀🏐🎱'\n",
    "for i, esfera in enumerate(esferas):\n",
    "    print(esfera*(i+1))"
   ]
  },
  {
   "cell_type": "markdown",
   "id": "1c9e5073",
   "metadata": {},
   "source": [
    "### While\n",
    "El ciclo while es un ciclo que se ejecuta mientras una condición sea verdadera\n",
    "Es como un ciclo for pero no se sabe cuantas veces se ejecutará\n",
    "Similar a un if pero se ejecuta varias veces\n",
    "    while condicion:\n",
    "        print(\"Código a ejecutar\")\n",
    "\n",
    "- while es la palabra reservada\n",
    "- condicion es la expresión que se evaluará tiene que ser True o False\n",
    "- : es el delimitador de inicio del ciclo\n",
    "- print(\"Código a ejecutar\") es el código a ejecutar posee un nivel de indentación\n",
    "- condicion se evalúa en cada iteración"
   ]
  },
  {
   "cell_type": "code",
   "execution_count": 5,
   "id": "74526bbc",
   "metadata": {},
   "outputs": [
    {
     "name": "stdout",
     "output_type": "stream",
     "text": [
      "Ejemplo 12\n",
      "0\n",
      "1\n",
      "2\n",
      "3\n",
      "4\n",
      "5\n",
      "Ejemplo 13\n"
     ]
    },
    {
     "ename": "ValueError",
     "evalue": "invalid literal for int() with base 10: ''",
     "output_type": "error",
     "traceback": [
      "\u001b[31m---------------------------------------------------------------------------\u001b[39m",
      "\u001b[31mValueError\u001b[39m                                Traceback (most recent call last)",
      "\u001b[36mCell\u001b[39m\u001b[36m \u001b[39m\u001b[32mIn[5]\u001b[39m\u001b[32m, line 14\u001b[39m\n\u001b[32m     12\u001b[39m \u001b[38;5;28;01mwhile\u001b[39;00m numero != \u001b[32m0\u001b[39m:\n\u001b[32m     13\u001b[39m     suma += numero\n\u001b[32m---> \u001b[39m\u001b[32m14\u001b[39m     numero = \u001b[38;5;28;43mint\u001b[39;49m\u001b[43m(\u001b[49m\u001b[38;5;28;43minput\u001b[39;49m\u001b[43m(\u001b[49m\u001b[33;43m\"\u001b[39;49m\u001b[33;43mIngrese un número: \u001b[39;49m\u001b[33;43m\"\u001b[39;49m\u001b[43m)\u001b[49m\u001b[43m)\u001b[49m\n\u001b[32m     15\u001b[39m \u001b[38;5;28mprint\u001b[39m(suma)\n",
      "\u001b[31mValueError\u001b[39m: invalid literal for int() with base 10: ''"
     ]
    }
   ],
   "source": [
    "#Ejemplo 12, imprimir los números mientras sean menores o igual a 5 empezando desde 0\n",
    "print (\"Ejemplo 12\")\n",
    "i = 0\n",
    "while i <= 5:\n",
    "    print(i)\n",
    "    i += 1\n",
    "\n",
    "#Ejemplo 13, sumar los números mientras no se ingrese por teclado el número 0\n",
    "print (\"Ejemplo 13\")\n",
    "suma = 0\n",
    "numero = int(input(\"Ingrese un número: \"))\n",
    "while numero != 0:\n",
    "    suma += numero\n",
    "    numero = int(input(\"Ingrese un número: \"))\n",
    "print(suma)\n",
    "\n"
   ]
  },
  {
   "cell_type": "code",
   "execution_count": null,
   "id": "ceb87b83",
   "metadata": {},
   "outputs": [],
   "source": [
    "#Ejercicio 3, Ingresa un número por teclado y genera un contador hasta 0, si el número es negativo no hace nada\n",
    "print (\"Ejercicio 3\")\n",
    "numero = int(input(\"Ingrese un número: \"))\n",
    "while numero >= 0:\n",
    "    print(numero)\n",
    "    numero -= 1"
   ]
  },
  {
   "cell_type": "markdown",
   "id": "3a8f4786",
   "metadata": {},
   "source": [
    "### Break\n",
    "La sentencia break es una palabra reservada que se usa para salir de un ciclo\n",
    "Termina el ciclo actual y ejecuta la siguiente instrucción después del ciclo\n",
    "Es útil para salir de un ciclo cuando se cumple una condición antes de que termine el ciclo"
   ]
  },
  {
   "cell_type": "code",
   "execution_count": 41,
   "id": "cb677c5c",
   "metadata": {},
   "outputs": [
    {
     "name": "stdout",
     "output_type": "stream",
     "text": [
      "Inicio Ternario\n",
      "Cumple\n",
      "Fin\n",
      "Inicio Ternario Par, Impar\n",
      "El número es impar\n",
      "Fin\n"
     ]
    }
   ],
   "source": [
    "#Ejemplo 14, De la siguiente lista de frutas imprimir los elementos hasta que se encuentre un gusano 🐛 con for\n",
    "frutas = ['🍎','🍌','🍇','🍉','🍊','🐛','🍋','🍍']\n",
    "print (\"Ejemplo 14\")\n",
    "for fruta in frutas:\n",
    "    if fruta == '🐛':\n",
    "        break\n",
    "    print(fruta)\n",
    "print (\"Fin\")\n",
    "\n",
    "#Con while\n",
    "frutas = ['🍎','🍌','🍇','🍉','🍊','🐛','🍋','🍍']\n",
    "print (\"Ejemplo 14\")\n",
    "i = \"\"\n",
    "while i != '🐛':\n",
    "    i = frutas.pop(0)\n",
    "    print(i)\n",
    "print (\"Fin\")"
   ]
  },
  {
   "cell_type": "markdown",
   "id": "b8c6ff80",
   "metadata": {},
   "source": [
    "### Ciclos infinitos\n",
    "Un ciclo infinito es un ciclo que no tiene una condición de salida\n",
    "Se ejecuta indefinidamente hasta que se detiene manualmente con Ctrl+C\n",
    "o mediante un break\n",
    "Se puede usar para ejecutar tareas en segundo plano\n",
    "Un mal uso de un ciclo infinito puede hacer que el programa se bloquee"
   ]
  },
  {
   "cell_type": "code",
   "execution_count": 42,
   "id": "bb40f1b9",
   "metadata": {},
   "outputs": [
    {
     "name": "stdout",
     "output_type": "stream",
     "text": [
      "Truthiness Enteros\n",
      "5 2\n",
      "2.5\n",
      "Fin\n",
      "Truthiness Flotantes\n",
      "4.0 2.0\n",
      "2.0\n",
      "Fin\n",
      "Truthiness Cadenas\n",
      "asdfg\n",
      "La cadena no está vacía\n",
      "Fin\n",
      "Truthiness Tuplas\n",
      "('a', 's', 'd', 'f')\n",
      "La tupla no está vacía\n",
      "Fin\n",
      "Truthiness Listas\n",
      "['s', 'f']\n",
      "La lista no está vacía\n",
      "Fin\n",
      "Truthiness Conjuntos\n",
      "{'f', 's', 'e', 'd'}\n",
      "El conjunto no está vacío\n",
      "Fin\n",
      "Truthiness Diccionarios\n",
      "{'ss': '2'}\n",
      "El diccionario no está vacío\n",
      "Fin\n",
      "Truthiness None\n",
      "None <class 'NoneType'>\n",
      "El valor es None\n",
      "Fin\n",
      "Diferente de 0\n",
      "Diferente de 0.0\n",
      "No está vacía\n"
     ]
    }
   ],
   "source": [
    "#Ejemplo 15, Crear un ciclo infinito que imprima un contador incremental\n",
    "print (\"Ejemplo 15\")\n",
    "contador = 0\n",
    "while True:\n",
    "    print(contador)\n",
    "    contador += 1\n",
    "\n",
    "#Ejemplo 16, Crear un ciclo infinito que pida una cadena de texto la ponga en mayúsculas y la imprima hasta que se ingrese la palabra salir\n",
    "print (\"Ejemplo 16\")\n",
    "while True:\n",
    "    texto = input(\"Ingrese un texto: \")\n",
    "    if texto == 'salir':\n",
    "        break\n",
    "    print(texto.upper())\n",
    "print (\"Fin\")"
   ]
  },
  {
   "cell_type": "code",
   "execution_count": null,
   "id": "a256be1a",
   "metadata": {},
   "outputs": [],
   "source": [
    "#Ejercicio 4, Crear un ciclo infinito que reciba un número por teclado y verifique si es par o impar hasta que se ingrese el número\n",
    "print (\"Ejercicio 4\")\n",
    "while True:\n",
    "    numero = int(input(\"Ingrese un número: \"))\n",
    "    if numero == 0:\n",
    "        break\n",
    "    print (\"Par\" if numero % 2 == 0 else \"Impar\")"
   ]
  },
  {
   "cell_type": "markdown",
   "id": "2874409a",
   "metadata": {},
   "source": [
    "### Estructuras por comprensión\n",
    "Las Estructuras por comprensión son una forma de crear estructuras de manera concisa utilizando una sola línea de código\n",
    "Utiliza la estructura de un ciclo for y se puede agregar condicionales\n",
    "Se puede crear listas, tuplas, diccionarios y conjuntos\n",
    "\n",
    "### Estructura de una lista por comprensión\n",
    "\n",
    "    [expresion for variable in secuencia]\n",
    "\n",
    "- expresion es la expresión que se evaluará\n",
    "- for es la palabra reservada\n",
    "- variable es el nombre de la variable que se usará para iterar\n",
    "- in es la palabra reservada de pertenencia\n",
    "- secuencia es la secuencia de elementos\n",
    "- [ y ] son los delimitadores de la lista\n",
    "\n",
    "### Estructura de una lista por comprensión y condicional\n",
    "\n",
    "    [expresion for variable in secuencia if condicion]\n",
    "\n",
    "- expresion es la expresión que se evaluará\n",
    "- for es la palabra reservada\n",
    "- variable es el nombre de la variable que se usará para iterar\n",
    "- in es la palabra reservada de pertenencia\n",
    "- secuencia es la secuencia de elementos\n",
    "- if es la palabra reservada de condición\n",
    "- condicion es la expresión que se evaluará\n",
    "- [ y ] son los delimitadores de la lista"
   ]
  },
  {
   "cell_type": "code",
   "execution_count": 43,
   "id": "08a609f2",
   "metadata": {},
   "outputs": [],
   "source": [
    "#Ejemplo 17, Crear una lista de los números pares del 2 al 10\n",
    "\n",
    "print (\"Ejemplo 17\")\n",
    "pares = [i for i in range(2, 11, 2)]\n",
    "print(pares)\n",
    "\n",
    "#Ejemplo 18, Crear una lista de los números pares del 2 al 10 con condicional\n",
    "print (\"Ejemplo 18\")\n",
    "pares = [i for i in range(2, 11) if i % 2 == 0]\n",
    "print(pares)\n",
    "\n",
    "#Ejemplo 19, Crear un diccionario números 2 al 10 donde si es par vale \"Par\" y si es impar valga \"Impar\"\n",
    "print (\"Ejemplo 19\")\n",
    "pares = {i: \"Par\" if i % 2 == 0 else \"Impar\" for i in range(2, 11)}\n",
    "print(pares)\n"
   ]
  },
  {
   "cell_type": "code",
   "execution_count": 44,
   "id": "270a12c3",
   "metadata": {},
   "outputs": [
    {
     "name": "stdout",
     "output_type": "stream",
     "text": [
      "['🍎', '🍑', '🍓', '🍉']\n",
      "Hay 1 manzanas\n",
      "['🍑', '🍓', '🍉']\n",
      "None\n",
      "['🍑', '🍓', '🍉', '🍎', '🍎']\n"
     ]
    }
   ],
   "source": [
    "#Ejercicio 5, Crear una tupla de los números impares del 1 al 10 usando una tupla por comprensión\n",
    "print (\"Ejercicio 5\")\n",
    "impares = tuple(i for i in range(1, 11) if i % 2 != 0)\n",
    "print(impares)"
   ]
  },
  {
   "cell_type": "markdown",
   "id": "9527d716",
   "metadata": {},
   "source": [
    "## Ciclos anidados\n",
    "Son ciclos dentro de otros ciclos\n",
    "Se pueden anidar ciclos for y while"
   ]
  },
  {
   "cell_type": "code",
   "execution_count": 45,
   "id": "948bf228",
   "metadata": {},
   "outputs": [
    {
     "name": "stdout",
     "output_type": "stream",
     "text": [
      "{'especie': '🐶', 'nombre': 'Firulais', 'mamifero': True}\n",
      "Es un mamífero\n"
     ]
    }
   ],
   "source": [
    "#Ejemplo 20, Imprimir las tablas de multiplicar del 1 y 2\n",
    "print (\"Ejemplo 20\")\n",
    "for i in range(1, 3):\n",
    "    print(f\"Tabla del {i}\")\n",
    "    for j in range(1, 11):\n",
    "        print(f\"{i} x {j} = {i*j}\")\n",
    "\n",
    "#Ejemplo 21, Introducir un número por teclado y crear una tabla de multiplicar de ese número del 1 al 10, si se ingresa 0 termina el programa\n",
    "print (\"Ejemplo 21\")\n",
    "while True:\n",
    "    numero = int(input(\"Ingrese un número: \"))\n",
    "    if numero == 0:\n",
    "        break\n",
    "    print(f\"Tabla del {numero}\")\n",
    "    for i in range(1, 11):\n",
    "        print(f\"{numero} x {i} = {numero*i}\")\n",
    "print (\"Fin\")"
   ]
  },
  {
   "cell_type": "markdown",
   "id": "e32a4f8e",
   "metadata": {},
   "source": [
    "Una matriz es una lista de listas que se puede recorrer con ciclos anidados\n",
    "Las matrices nos sirven para representar datos en dos dimensiones\n",
    "Son útiles para representar tablas, imágenes, mapas, etc."
   ]
  },
  {
   "cell_type": "code",
   "execution_count": 46,
   "id": "3298ad10",
   "metadata": {},
   "outputs": [
    {
     "name": "stdout",
     "output_type": "stream",
     "text": [
      "{'⚽', '🏐', '🏀'} {'🏓', '🏈', '🏉'}\n",
      "{'⚽', '🏐', '🏀', '🏓', '🏈', '🏉'}\n"
     ]
    }
   ],
   "source": [
    "matriz = [[1, 2, 3], [4, 5, 6], [7, 8, 9]]\n",
    "for fila in matriz:\n",
    "    for columna in fila:\n",
    "        print(columna, end=\" \")\n",
    "    print()\n",
    "\n",
    "#Ejemplo 22, Introducir un número por teclado y crear una matriz nxn con la letra X\n",
    "print (\"Ejemplo 22\")\n",
    "n = int(input(\"Ingrese un número: \"))\n",
    "matriz = [['X' for i in range(n)] for j in range(n)]\n",
    "for fila in matriz:\n",
    "    for columna in fila:\n",
    "        print(columna, end=\" \")\n",
    "    print()\n",
    "print (matriz)"
   ]
  },
  {
   "cell_type": "code",
   "execution_count": null,
   "id": "c568383d",
   "metadata": {},
   "outputs": [],
   "source": [
    "#Ejercicio 6, Crear una matriz ingresando un número por teclado para el tamaño de la matriz y en cada posición colocar una tupla con (i, j)\n",
    "print (\"Ejercicio 6\")\n",
    "n = int(input(\"Ingrese un número: \"))\n",
    "matriz = [[(j, i) for i in range(n)] for j in range(n)]\n",
    "for fila in matriz:\n",
    "    for columna in fila:\n",
    "        print(columna, end=\" \")\n",
    "    print()\n",
    "print (matriz)"
   ]
  }
 ],
 "metadata": {
  "kernelspec": {
   "display_name": "Python 3",
   "language": "python",
   "name": "python3"
  },
  "language_info": {
   "codemirror_mode": {
    "name": "ipython",
    "version": 3
   },
   "file_extension": ".py",
   "mimetype": "text/x-python",
   "name": "python",
   "nbconvert_exporter": "python",
   "pygments_lexer": "ipython3",
   "version": "3.13.3"
  }
 },
 "nbformat": 4,
 "nbformat_minor": 5
}
